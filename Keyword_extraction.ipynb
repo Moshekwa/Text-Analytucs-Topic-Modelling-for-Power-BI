{
  "nbformat": 4,
  "nbformat_minor": 0,
  "metadata": {
    "colab": {
      "name": "Keyword extraction.ipynb",
      "private_outputs": true,
      "provenance": [],
      "collapsed_sections": [],
      "authorship_tag": "ABX9TyNVS42LY3DCdnH8PPvYKxYw",
      "include_colab_link": true
    },
    "kernelspec": {
      "name": "python3",
      "display_name": "Python 3"
    },
    "language_info": {
      "name": "python"
    }
  },
  "cells": [
    {
      "cell_type": "markdown",
      "metadata": {
        "id": "view-in-github",
        "colab_type": "text"
      },
      "source": [
        "<a href=\"https://colab.research.google.com/github/Moshekwa/Text-Analytucs-Topic-Modelling-for-Power-BI/blob/main/Keyword_extraction.ipynb\" target=\"_parent\"><img src=\"https://colab.research.google.com/assets/colab-badge.svg\" alt=\"Open In Colab\"/></a>"
      ]
    },
    {
      "cell_type": "code",
      "metadata": {
        "id": "gm5uEpM04dml"
      },
      "source": [
        "!pip install python-rake\n",
        "!pip install --upgrade pandas\n",
        "import pandas as pd\n",
        "import RAKE\n",
        "import operator, csv, re"
      ],
      "execution_count": null,
      "outputs": []
    },
    {
      "cell_type": "code",
      "metadata": {
        "id": "lRBM29Ha9tKW"
      },
      "source": [
        "import sys\n",
        "# !{sys.executable} -m spacy download en\n",
        "import re, numpy as np, pandas as pd\n",
        "from pprint import pprint"
      ],
      "execution_count": null,
      "outputs": []
    },
    {
      "cell_type": "markdown",
      "metadata": {
        "id": "f5qOgDlIqWgx"
      },
      "source": [
        "# Read In Data from File"
      ]
    },
    {
      "cell_type": "code",
      "metadata": {
        "id": "9UoaBmUZ5F-d"
      },
      "source": [
        "#df = pd.read_csv('/content/CSI Customer Response.csv',error_bad_lines=False)\n",
        "#print(df.shape)\n",
        "#df\n",
        "filename = '/content/CSI Customer Response.csv'"
      ],
      "execution_count": null,
      "outputs": []
    },
    {
      "cell_type": "markdown",
      "metadata": {
        "id": "EI04aWFe9O0C"
      },
      "source": [
        "# Clean Data Before Using Rake"
      ]
    },
    {
      "cell_type": "code",
      "metadata": {
        "id": "PunCXjUm6Z59"
      },
      "source": [
        "# Function to convert list to string \n",
        "def listToString(s): \n",
        "    \n",
        "    # initialize an empty string\n",
        "    str1 = \"\" \n",
        "    \n",
        "    # traverse in the string  \n",
        "    for ele in s: \n",
        "        str1 += ele  \n",
        "    \n",
        "    # return string  \n",
        "    return str1 \n",
        "\n",
        "rake_object = RAKE.Rake(\"SmartStoplist.txt\")\n",
        "\n",
        "with open(filename, 'r') as csvfile:\n",
        "    datareader = csv.reader(csvfile)\n",
        "    for row in datareader:\n",
        "      row = listToString(row)\n",
        "      row =  re.sub(pattern = \"[^\\w\\s]\",repl = \"\",string = row) #Removes semi colon\n",
        "      row = re.sub('\\S*@\\S*\\s?', '', row)  # remove emails\n",
        "      row = re.sub('\\s+', ' ', row)  # remove newline chars\n",
        "      row = re.sub(\"\\'\", \"\", row)\n",
        "      row = row.encode('ascii', 'ignore').decode('ascii') #  strips all non-ASCII characters\n",
        "      print(row)\n",
        "      keywords = rake_object.run(row)\n",
        "      print(keywords)"
      ],
      "execution_count": null,
      "outputs": []
    }
  ]
}