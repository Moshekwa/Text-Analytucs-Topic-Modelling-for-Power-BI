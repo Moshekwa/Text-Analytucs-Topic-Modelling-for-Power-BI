{
  "nbformat": 4,
  "nbformat_minor": 0,
  "metadata": {
    "colab": {
      "name": "Keyword extraction.ipynb",
      "private_outputs": true,
      "provenance": [],
      "collapsed_sections": [],
      "authorship_tag": "ABX9TyPI1rAJJLKv1/r4R4Cudgjw",
      "include_colab_link": true
    },
    "kernelspec": {
      "name": "python3",
      "display_name": "Python 3"
    },
    "language_info": {
      "name": "python"
    }
  },
  "cells": [
    {
      "cell_type": "markdown",
      "metadata": {
        "id": "view-in-github",
        "colab_type": "text"
      },
      "source": [
        "<a href=\"https://colab.research.google.com/github/Moshekwa/Text-Analytucs-Topic-Modelling-for-Power-BI/blob/main/Keyword_extraction.ipynb\" target=\"_parent\"><img src=\"https://colab.research.google.com/assets/colab-badge.svg\" alt=\"Open In Colab\"/></a>"
      ]
    },
    {
      "cell_type": "code",
      "metadata": {
        "id": "gm5uEpM04dml"
      },
      "source": [
        "!pip install python-rake\n",
        "!pip install --upgrade pandas\n",
        "import pandas as pd\n",
        "import RAKE\n",
        "import operator, csv, re"
      ],
      "execution_count": null,
      "outputs": []
    },
    {
      "cell_type": "code",
      "metadata": {
        "id": "lRBM29Ha9tKW"
      },
      "source": [
        "import sys\n",
        "# !{sys.executable} -m spacy download en\n",
        "import re, numpy as np, pandas as pd\n",
        "from pprint import pprint"
      ],
      "execution_count": null,
      "outputs": []
    },
    {
      "cell_type": "markdown",
      "metadata": {
        "id": "f5qOgDlIqWgx"
      },
      "source": [
        "# Read In Data from File"
      ]
    },
    {
      "cell_type": "code",
      "metadata": {
        "id": "9UoaBmUZ5F-d"
      },
      "source": [
        "#df = pd.read_csv('/content/CSI Customer Response.csv',error_bad_lines=False)\n",
        "#print(df.shape)\n",
        "#df\n",
        "filename = '/content/CSI Customer Response.csv'"
      ],
      "execution_count": null,
      "outputs": []
    },
    {
      "cell_type": "markdown",
      "metadata": {
        "id": "EI04aWFe9O0C"
      },
      "source": [
        "# Clean Data Before Using Rake"
      ]
    },
    {
      "cell_type": "code",
      "metadata": {
        "id": "PunCXjUm6Z59"
      },
      "source": [
        "# Function to convert list to string \n",
        "def listToString(s): \n",
        "    \n",
        "    # initialize an empty string\n",
        "    str1 = \"\" \n",
        "    \n",
        "    # traverse in the string  \n",
        "    for ele in s: \n",
        "        str1 += ele  \n",
        "    \n",
        "    # return string  \n",
        "    return str1 \n",
        "\n",
        "rake_object = RAKE.Rake(\"SmartStoplist.txt\")\n",
        "\n",
        "def Sort_Tuple(tup):\n",
        "   tup.sort(key= lambda x:x[1])\n",
        "   return tup\n",
        "\n",
        "# create DataFrame    \n",
        "Rake_Final_Output = pd.DataFrame()\n",
        "\n",
        "# Clean every sentence\n",
        "def clean_sentences(response):\n",
        "  response =  re.sub(pattern = \"[^\\w\\s]\",repl = \"\",string = response) #Removes semi colon\n",
        "  response = re.sub('\\S*@\\S*\\s?', '', response)  # remove emails\n",
        "  response = re.sub('\\s+', ' ', response)  # remove newline chars\n",
        "  response = re.sub(\"\\'\", \"\", response)\n",
        "  response = response.encode('ascii', 'ignore').decode('ascii') #  strips all non-ASCII characters like emojis\n",
        "  return response\n",
        "\n",
        "with open(filename, 'r') as csvfile:\n",
        "    datareader = csv.reader(csvfile)\n",
        "    for row in datareader:\n",
        "      comment = listToString(row) # Convert every sentence of file to string\n",
        "      clean_sentence = clean_sentences(comment) # obtain clean data\n",
        "      keywords = rake_object.run(clean_sentence) \n",
        "      keywords=Sort_Tuple(rake_object.run(clean_sentence))[-1:]     \n",
        "\n",
        "      # Create Output dataframe for Keywords \n",
        "      Output = pd.DataFrame(keywords, columns =['Word', 'KeywordScore']) \n",
        "      Output['Keywords']=keywords\n",
        "      Output['KeywordScore'] = Output['KeywordScore'].astype('float')\n",
        "      #Output['Response']=df.Question[x]\n",
        "      Output['Customer Response']=comment\n",
        "\n",
        "      # Append Dataframe to Table \n",
        "      Rake_Final_Output = Rake_Final_Output.append(Output, ignore_index=True)"
      ],
      "execution_count": null,
      "outputs": []
    },
    {
      "cell_type": "code",
      "metadata": {
        "id": "rqr0fLISkYYn"
      },
      "source": [
        "print(Rake_Final_Output)"
      ],
      "execution_count": null,
      "outputs": []
    }
  ]
}