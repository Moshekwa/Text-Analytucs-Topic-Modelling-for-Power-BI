{
  "nbformat": 4,
  "nbformat_minor": 0,
  "metadata": {
    "colab": {
      "name": "Topic Extraction .ipynb",
      "private_outputs": true,
      "provenance": [],
      "authorship_tag": "ABX9TyNvPVU2wzxJonN6QmGnh1zp",
      "include_colab_link": true
    },
    "kernelspec": {
      "name": "python3",
      "display_name": "Python 3"
    },
    "language_info": {
      "name": "python"
    },
    "accelerator": "GPU"
  },
  "cells": [
    {
      "cell_type": "markdown",
      "metadata": {
        "id": "view-in-github",
        "colab_type": "text"
      },
      "source": [
        "<a href=\"https://colab.research.google.com/github/Moshekwa/Text-Analytucs-Topic-Modelling-for-Power-BI/blob/main/Topic_Extraction_.ipynb\" target=\"_parent\"><img src=\"https://colab.research.google.com/assets/colab-badge.svg\" alt=\"Open In Colab\"/></a>"
      ]
    },
    {
      "cell_type": "code",
      "metadata": {
        "id": "2uQz2cCiYIpW"
      },
      "source": [
        "!pip install pycaret\n"
      ],
      "execution_count": null,
      "outputs": []
    },
    {
      "cell_type": "code",
      "metadata": {
        "id": "k2iORyztZoAm"
      },
      "source": [
        "from pycaret.datasets import get_data\n",
        "kiva = get_data('kiva')"
      ],
      "execution_count": null,
      "outputs": []
    },
    {
      "cell_type": "markdown",
      "metadata": {
        "id": "4_rYxXMBb9yK"
      },
      "source": [
        "# Setting Up the Pycaret enviroment"
      ]
    },
    {
      "cell_type": "code",
      "metadata": {
        "id": "8bxK-A_GcF-a"
      },
      "source": [
        "# Target column definition\n",
        "kiva['en'][0]"
      ],
      "execution_count": null,
      "outputs": []
    },
    {
      "cell_type": "code",
      "metadata": {
        "id": "k9urZrElb8DD"
      },
      "source": [
        "# Mandatory Setup\n",
        "from pycaret.nlp import *\n",
        "lda_Exp = setup(kiva, target='en')"
      ],
      "execution_count": null,
      "outputs": []
    },
    {
      "cell_type": "markdown",
      "metadata": {
        "id": "Mj_utOZTezt_"
      },
      "source": [
        "# Creation of the LDA Model"
      ]
    },
    {
      "cell_type": "code",
      "metadata": {
        "id": "cCNRUVzDeszY"
      },
      "source": [
        "LDA = create_model('lda')"
      ],
      "execution_count": null,
      "outputs": []
    },
    {
      "cell_type": "code",
      "metadata": {
        "id": "8wRwPpmgl9pa"
      },
      "source": [
        "print(LDA)"
      ],
      "execution_count": null,
      "outputs": []
    },
    {
      "cell_type": "markdown",
      "metadata": {
        "id": "GVa6LDqNmJai"
      },
      "source": [
        "# LDA Model Visualization"
      ]
    },
    {
      "cell_type": "code",
      "metadata": {
        "id": "D5m2RIqpmM7V"
      },
      "source": [
        "plot_model()"
      ],
      "execution_count": null,
      "outputs": []
    },
    {
      "cell_type": "code",
      "metadata": {
        "id": "jPIKopawAyvb"
      },
      "source": [
        "plot_model(LDA,plot='bigram')"
      ],
      "execution_count": null,
      "outputs": []
    },
    {
      "cell_type": "code",
      "metadata": {
        "id": "Ydy2iaRsDYuQ"
      },
      "source": [
        "plot_model(LDA,plot='sentiment', topic_num='Topic_0')"
      ],
      "execution_count": null,
      "outputs": []
    },
    {
      "cell_type": "code",
      "metadata": {
        "id": "ELkvO9gADgyV"
      },
      "source": [
        "plot_model(LDA,plot=' topic_distribution')"
      ],
      "execution_count": null,
      "outputs": []
    },
    {
      "cell_type": "code",
      "metadata": {
        "id": "sDy6kMBZE2_H"
      },
      "source": [
        "plot_model(LDA,plot='wordcloud')"
      ],
      "execution_count": null,
      "outputs": []
    },
    {
      "cell_type": "markdown",
      "metadata": {
        "id": "0GsjhPmrpJTD"
      },
      "source": [
        "# Evaluation of the Model"
      ]
    },
    {
      "cell_type": "code",
      "metadata": {
        "id": "VxWrN8dRpNq9"
      },
      "source": [
        "evaluate_model(LDA)"
      ],
      "execution_count": null,
      "outputs": []
    },
    {
      "cell_type": "code",
      "metadata": {
        "id": "-g1nko_hHazR"
      },
      "source": [
        "#Assigning topic weights\n",
        "LDA_Result = assign_model(LDA)"
      ],
      "execution_count": null,
      "outputs": []
    },
    {
      "cell_type": "code",
      "metadata": {
        "id": "GExPSHFzHvaz"
      },
      "source": [
        "# Saving the model\n",
        "save_model(LDA, 'saved_LDA_model')"
      ],
      "execution_count": null,
      "outputs": []
    }
  ]
}