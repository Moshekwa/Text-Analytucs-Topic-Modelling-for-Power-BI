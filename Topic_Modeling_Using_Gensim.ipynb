{
  "nbformat": 4,
  "nbformat_minor": 0,
  "metadata": {
    "colab": {
      "name": "Topic Modeling Using Gensim.ipynb",
      "provenance": [],
      "collapsed_sections": [],
      "authorship_tag": "ABX9TyP1ItexPJqpfxSo7lj+LFGR",
      "include_colab_link": true
    },
    "kernelspec": {
      "name": "python3",
      "display_name": "Python 3"
    },
    "language_info": {
      "name": "python"
    }
  },
  "cells": [
    {
      "cell_type": "markdown",
      "metadata": {
        "id": "view-in-github",
        "colab_type": "text"
      },
      "source": [
        "<a href=\"https://colab.research.google.com/github/Moshekwa/Text-Analytucs-Topic-Modelling-for-Power-BI/blob/main/Topic_Modeling_Using_Gensim.ipynb\" target=\"_parent\"><img src=\"https://colab.research.google.com/assets/colab-badge.svg\" alt=\"Open In Colab\"/></a>"
      ]
    },
    {
      "cell_type": "code",
      "metadata": {
        "colab": {
          "base_uri": "https://localhost:8080/"
        },
        "id": "Gs8opeLAOaeY",
        "outputId": "949d47d2-eb1b-490a-d206-dbd2c9e08473"
      },
      "source": [
        "!pip install pyLDAvis"
      ],
      "execution_count": 1,
      "outputs": [
        {
          "output_type": "stream",
          "text": [
            "Requirement already satisfied: pyLDAvis in /usr/local/lib/python3.7/dist-packages (3.3.1)\n",
            "Requirement already satisfied: setuptools in /usr/local/lib/python3.7/dist-packages (from pyLDAvis) (57.0.0)\n",
            "Requirement already satisfied: numpy>=1.20.0 in /usr/local/lib/python3.7/dist-packages (from pyLDAvis) (1.21.0)\n",
            "Requirement already satisfied: jinja2 in /usr/local/lib/python3.7/dist-packages (from pyLDAvis) (2.11.3)\n",
            "Requirement already satisfied: numexpr in /usr/local/lib/python3.7/dist-packages (from pyLDAvis) (2.7.3)\n",
            "Requirement already satisfied: sklearn in /usr/local/lib/python3.7/dist-packages (from pyLDAvis) (0.0)\n",
            "Requirement already satisfied: future in /usr/local/lib/python3.7/dist-packages (from pyLDAvis) (0.16.0)\n",
            "Requirement already satisfied: funcy in /usr/local/lib/python3.7/dist-packages (from pyLDAvis) (1.16)\n",
            "Requirement already satisfied: scipy in /usr/local/lib/python3.7/dist-packages (from pyLDAvis) (1.4.1)\n",
            "Requirement already satisfied: gensim in /usr/local/lib/python3.7/dist-packages (from pyLDAvis) (3.6.0)\n",
            "Requirement already satisfied: joblib in /usr/local/lib/python3.7/dist-packages (from pyLDAvis) (1.0.1)\n",
            "Requirement already satisfied: pandas>=1.2.0 in /usr/local/lib/python3.7/dist-packages (from pyLDAvis) (1.3.0)\n",
            "Requirement already satisfied: scikit-learn in /usr/local/lib/python3.7/dist-packages (from pyLDAvis) (0.22.2.post1)\n",
            "Requirement already satisfied: MarkupSafe>=0.23 in /usr/local/lib/python3.7/dist-packages (from jinja2->pyLDAvis) (2.0.1)\n",
            "Requirement already satisfied: six>=1.5.0 in /usr/local/lib/python3.7/dist-packages (from gensim->pyLDAvis) (1.15.0)\n",
            "Requirement already satisfied: smart-open>=1.2.1 in /usr/local/lib/python3.7/dist-packages (from gensim->pyLDAvis) (5.1.0)\n",
            "Requirement already satisfied: pytz>=2017.3 in /usr/local/lib/python3.7/dist-packages (from pandas>=1.2.0->pyLDAvis) (2018.9)\n",
            "Requirement already satisfied: python-dateutil>=2.7.3 in /usr/local/lib/python3.7/dist-packages (from pandas>=1.2.0->pyLDAvis) (2.8.1)\n"
          ],
          "name": "stdout"
        }
      ]
    },
    {
      "cell_type": "code",
      "metadata": {
        "colab": {
          "base_uri": "https://localhost:8080/"
        },
        "id": "iBkQ9728NYNw",
        "outputId": "cd8f5383-b53b-4bf3-fce4-1d7b5a303bce"
      },
      "source": [
        "# Run in python console\n",
        "#!pip install nltk\n",
        "import nltk; nltk.download('stopwords')\n",
        "\n",
        "import re\n",
        "import numpy as np\n",
        "import pandas as pd\n",
        "from pprint import pprint\n",
        "\n",
        "# Gensim\n",
        "import gensim\n",
        "import gensim.corpora as corpora\n",
        "from gensim.utils import simple_preprocess\n",
        "from gensim.models import CoherenceModel\n",
        "\n",
        "# spacy for lemmatization\n",
        "import spacy\n",
        "\n",
        "# Plotting tools\n",
        "#!pip install pyLDAvis\n",
        "import pyLDAvis\n",
        "import pyLDAvis.gensim_models  # don't skip this\n",
        "import matplotlib.pyplot as plt\n",
        "%matplotlib inline\n",
        "\n",
        "from nltk.corpus import stopwords\n",
        "import string\n",
        "from nltk.stem.wordnet import WordNetLemmatizer\n",
        "nltk.download('all')\n",
        "\n",
        "# Enable logging for gensim - optional\n",
        "import logging\n",
        "logging.basicConfig(format='%(asctime)s : %(levelname)s : %(message)s', level=logging.ERROR)\n",
        "\n",
        "import warnings\n",
        "warnings.filterwarnings(\"ignore\",category=DeprecationWarning)\n",
        "\n"
      ],
      "execution_count": 3,
      "outputs": [
        {
          "output_type": "stream",
          "text": [
            "[nltk_data] Downloading package stopwords to /root/nltk_data...\n",
            "[nltk_data]   Package stopwords is already up-to-date!\n"
          ],
          "name": "stdout"
        }
      ]
    },
    {
      "cell_type": "code",
      "metadata": {
        "colab": {
          "base_uri": "https://localhost:8080/",
          "height": 436
        },
        "id": "tRepsrL-R1sd",
        "outputId": "d55ecd1a-4aef-4240-9c7b-077544a86045"
      },
      "source": [
        "# Read In Kiva Dataset\n",
        "df = pd.read_csv('/content/kiva.csv')\n",
        "print(df.shape)\n",
        "df"
      ],
      "execution_count": 10,
      "outputs": [
        {
          "output_type": "stream",
          "text": [
            "(6818, 7)\n"
          ],
          "name": "stdout"
        },
        {
          "output_type": "execute_result",
          "data": {
            "text/html": [
              "<div>\n",
              "<style scoped>\n",
              "    .dataframe tbody tr th:only-of-type {\n",
              "        vertical-align: middle;\n",
              "    }\n",
              "\n",
              "    .dataframe tbody tr th {\n",
              "        vertical-align: top;\n",
              "    }\n",
              "\n",
              "    .dataframe thead th {\n",
              "        text-align: right;\n",
              "    }\n",
              "</style>\n",
              "<table border=\"1\" class=\"dataframe\">\n",
              "  <thead>\n",
              "    <tr style=\"text-align: right;\">\n",
              "      <th></th>\n",
              "      <th>country</th>\n",
              "      <th>en</th>\n",
              "      <th>gender</th>\n",
              "      <th>loan_amount</th>\n",
              "      <th>nonpayment</th>\n",
              "      <th>sector</th>\n",
              "      <th>status</th>\n",
              "    </tr>\n",
              "  </thead>\n",
              "  <tbody>\n",
              "    <tr>\n",
              "      <th>0</th>\n",
              "      <td>Dominican Republic</td>\n",
              "      <td>\"Banco Esperanza\" is a group of 10 women looki...</td>\n",
              "      <td>F</td>\n",
              "      <td>1225</td>\n",
              "      <td>partner</td>\n",
              "      <td>Retail</td>\n",
              "      <td>0</td>\n",
              "    </tr>\n",
              "    <tr>\n",
              "      <th>1</th>\n",
              "      <td>Dominican Republic</td>\n",
              "      <td>\"Caminemos Hacia Adelante\" or \"Walking Forward...</td>\n",
              "      <td>F</td>\n",
              "      <td>1975</td>\n",
              "      <td>lender</td>\n",
              "      <td>Clothing</td>\n",
              "      <td>0</td>\n",
              "    </tr>\n",
              "    <tr>\n",
              "      <th>2</th>\n",
              "      <td>Dominican Republic</td>\n",
              "      <td>\"Creciendo Por La Union\" is a group of 10 peop...</td>\n",
              "      <td>F</td>\n",
              "      <td>2175</td>\n",
              "      <td>partner</td>\n",
              "      <td>Clothing</td>\n",
              "      <td>0</td>\n",
              "    </tr>\n",
              "    <tr>\n",
              "      <th>3</th>\n",
              "      <td>Dominican Republic</td>\n",
              "      <td>\"Cristo Vive\" (\"Christ lives\" is a group of 10...</td>\n",
              "      <td>F</td>\n",
              "      <td>1425</td>\n",
              "      <td>partner</td>\n",
              "      <td>Clothing</td>\n",
              "      <td>0</td>\n",
              "    </tr>\n",
              "    <tr>\n",
              "      <th>4</th>\n",
              "      <td>Dominican Republic</td>\n",
              "      <td>\"Cristo Vive\" is a large group of 35 people, 2...</td>\n",
              "      <td>F</td>\n",
              "      <td>4025</td>\n",
              "      <td>partner</td>\n",
              "      <td>Food</td>\n",
              "      <td>0</td>\n",
              "    </tr>\n",
              "    <tr>\n",
              "      <th>...</th>\n",
              "      <td>...</td>\n",
              "      <td>...</td>\n",
              "      <td>...</td>\n",
              "      <td>...</td>\n",
              "      <td>...</td>\n",
              "      <td>...</td>\n",
              "      <td>...</td>\n",
              "    </tr>\n",
              "    <tr>\n",
              "      <th>6813</th>\n",
              "      <td>Kenya</td>\n",
              "      <td>Zipporah Wanjiku Wambu is 34 years old and a m...</td>\n",
              "      <td>F</td>\n",
              "      <td>550</td>\n",
              "      <td>lender</td>\n",
              "      <td>Food</td>\n",
              "      <td>1</td>\n",
              "    </tr>\n",
              "    <tr>\n",
              "      <th>6814</th>\n",
              "      <td>Kenya</td>\n",
              "      <td>Zirah Ateso Achara is 38 years old she is marr...</td>\n",
              "      <td>F</td>\n",
              "      <td>1000</td>\n",
              "      <td>lender</td>\n",
              "      <td>Food</td>\n",
              "      <td>1</td>\n",
              "    </tr>\n",
              "    <tr>\n",
              "      <th>6815</th>\n",
              "      <td>Kenya</td>\n",
              "      <td>Zuleah Amoit is a member in one of the active ...</td>\n",
              "      <td>F</td>\n",
              "      <td>325</td>\n",
              "      <td>lender</td>\n",
              "      <td>Retail</td>\n",
              "      <td>1</td>\n",
              "    </tr>\n",
              "    <tr>\n",
              "      <th>6816</th>\n",
              "      <td>Kenya</td>\n",
              "      <td>Zuleya is an active member of PEMCI. She has s...</td>\n",
              "      <td>F</td>\n",
              "      <td>450</td>\n",
              "      <td>partner</td>\n",
              "      <td>Retail</td>\n",
              "      <td>0</td>\n",
              "    </tr>\n",
              "    <tr>\n",
              "      <th>6817</th>\n",
              "      <td>Kenya</td>\n",
              "      <td>Zuleya is Married with Nine Children she start...</td>\n",
              "      <td>F</td>\n",
              "      <td>375</td>\n",
              "      <td>partner</td>\n",
              "      <td>Retail</td>\n",
              "      <td>0</td>\n",
              "    </tr>\n",
              "  </tbody>\n",
              "</table>\n",
              "<p>6818 rows × 7 columns</p>\n",
              "</div>"
            ],
            "text/plain": [
              "                 country  ... status\n",
              "0     Dominican Republic  ...      0\n",
              "1     Dominican Republic  ...      0\n",
              "2     Dominican Republic  ...      0\n",
              "3     Dominican Republic  ...      0\n",
              "4     Dominican Republic  ...      0\n",
              "...                  ...  ...    ...\n",
              "6813               Kenya  ...      1\n",
              "6814               Kenya  ...      1\n",
              "6815               Kenya  ...      1\n",
              "6816               Kenya  ...      0\n",
              "6817               Kenya  ...      0\n",
              "\n",
              "[6818 rows x 7 columns]"
            ]
          },
          "metadata": {
            "tags": []
          },
          "execution_count": 10
        }
      ]
    },
    {
      "cell_type": "markdown",
      "metadata": {
        "id": "-b-UyHeoUrks"
      },
      "source": [
        "\n",
        "# Clean the data"
      ]
    },
    {
      "cell_type": "code",
      "metadata": {
        "id": "oN-GMMADRax4"
      },
      "source": [
        "\n",
        "stop = set(stopwords.words('english'))\n",
        "exclude = set(string.punctuation)\n",
        "lemma = WordNetLemmatizer()\n",
        "\n",
        "def clean(text):\n",
        "    stop_free = ' '.join([word for word in text.lower().split() if word not in stop])\n",
        "    punc_free = ''.join(ch for ch in stop_free if ch not in exclude)\n",
        "    normalized = ' '.join([lemma.lemmatize(word) for word in punc_free.split()])\n",
        "    return normalized.split()"
      ],
      "execution_count": null,
      "outputs": []
    },
    {
      "cell_type": "markdown",
      "metadata": {
        "id": "C2w6iSdYVnNY"
      },
      "source": [
        "# DataFrame after cleaning"
      ]
    },
    {
      "cell_type": "code",
      "metadata": {
        "id": "BkEBLFIdVc0N"
      },
      "source": [
        "df['en_clean']=df['en'].apply(clean)"
      ],
      "execution_count": 20,
      "outputs": []
    },
    {
      "cell_type": "code",
      "metadata": {
        "colab": {
          "base_uri": "https://localhost:8080/",
          "height": 589
        },
        "id": "tj2nMNSsXI_C",
        "outputId": "44599c29-4b4f-49b4-e412-36cdcd4d8d12"
      },
      "source": [
        "df"
      ],
      "execution_count": 21,
      "outputs": [
        {
          "output_type": "execute_result",
          "data": {
            "text/html": [
              "<div>\n",
              "<style scoped>\n",
              "    .dataframe tbody tr th:only-of-type {\n",
              "        vertical-align: middle;\n",
              "    }\n",
              "\n",
              "    .dataframe tbody tr th {\n",
              "        vertical-align: top;\n",
              "    }\n",
              "\n",
              "    .dataframe thead th {\n",
              "        text-align: right;\n",
              "    }\n",
              "</style>\n",
              "<table border=\"1\" class=\"dataframe\">\n",
              "  <thead>\n",
              "    <tr style=\"text-align: right;\">\n",
              "      <th></th>\n",
              "      <th>country</th>\n",
              "      <th>en</th>\n",
              "      <th>gender</th>\n",
              "      <th>loan_amount</th>\n",
              "      <th>nonpayment</th>\n",
              "      <th>sector</th>\n",
              "      <th>status</th>\n",
              "      <th>en_clean</th>\n",
              "    </tr>\n",
              "  </thead>\n",
              "  <tbody>\n",
              "    <tr>\n",
              "      <th>0</th>\n",
              "      <td>Dominican Republic</td>\n",
              "      <td>\"Banco Esperanza\" is a group of 10 women looki...</td>\n",
              "      <td>F</td>\n",
              "      <td>1225</td>\n",
              "      <td>partner</td>\n",
              "      <td>Retail</td>\n",
              "      <td>0</td>\n",
              "      <td>[banco, esperanza, group, 10, woman, looking, ...</td>\n",
              "    </tr>\n",
              "    <tr>\n",
              "      <th>1</th>\n",
              "      <td>Dominican Republic</td>\n",
              "      <td>\"Caminemos Hacia Adelante\" or \"Walking Forward...</td>\n",
              "      <td>F</td>\n",
              "      <td>1975</td>\n",
              "      <td>lender</td>\n",
              "      <td>Clothing</td>\n",
              "      <td>0</td>\n",
              "      <td>[caminemos, hacia, adelante, walking, forward,...</td>\n",
              "    </tr>\n",
              "    <tr>\n",
              "      <th>2</th>\n",
              "      <td>Dominican Republic</td>\n",
              "      <td>\"Creciendo Por La Union\" is a group of 10 peop...</td>\n",
              "      <td>F</td>\n",
              "      <td>2175</td>\n",
              "      <td>partner</td>\n",
              "      <td>Clothing</td>\n",
              "      <td>0</td>\n",
              "      <td>[creciendo, por, la, union, group, 10, people,...</td>\n",
              "    </tr>\n",
              "    <tr>\n",
              "      <th>3</th>\n",
              "      <td>Dominican Republic</td>\n",
              "      <td>\"Cristo Vive\" (\"Christ lives\" is a group of 10...</td>\n",
              "      <td>F</td>\n",
              "      <td>1425</td>\n",
              "      <td>partner</td>\n",
              "      <td>Clothing</td>\n",
              "      <td>0</td>\n",
              "      <td>[cristo, vive, christ, life, group, 10, woman,...</td>\n",
              "    </tr>\n",
              "    <tr>\n",
              "      <th>4</th>\n",
              "      <td>Dominican Republic</td>\n",
              "      <td>\"Cristo Vive\" is a large group of 35 people, 2...</td>\n",
              "      <td>F</td>\n",
              "      <td>4025</td>\n",
              "      <td>partner</td>\n",
              "      <td>Food</td>\n",
              "      <td>0</td>\n",
              "      <td>[cristo, vive, large, group, 35, people, 20, h...</td>\n",
              "    </tr>\n",
              "    <tr>\n",
              "      <th>...</th>\n",
              "      <td>...</td>\n",
              "      <td>...</td>\n",
              "      <td>...</td>\n",
              "      <td>...</td>\n",
              "      <td>...</td>\n",
              "      <td>...</td>\n",
              "      <td>...</td>\n",
              "      <td>...</td>\n",
              "    </tr>\n",
              "    <tr>\n",
              "      <th>6813</th>\n",
              "      <td>Kenya</td>\n",
              "      <td>Zipporah Wanjiku Wambu is 34 years old and a m...</td>\n",
              "      <td>F</td>\n",
              "      <td>550</td>\n",
              "      <td>lender</td>\n",
              "      <td>Food</td>\n",
              "      <td>1</td>\n",
              "      <td>[zipporah, wanjiku, wambu, 34, year, old, moth...</td>\n",
              "    </tr>\n",
              "    <tr>\n",
              "      <th>6814</th>\n",
              "      <td>Kenya</td>\n",
              "      <td>Zirah Ateso Achara is 38 years old she is marr...</td>\n",
              "      <td>F</td>\n",
              "      <td>1000</td>\n",
              "      <td>lender</td>\n",
              "      <td>Food</td>\n",
              "      <td>1</td>\n",
              "      <td>[zirah, ateso, achara, 38, year, old, married,...</td>\n",
              "    </tr>\n",
              "    <tr>\n",
              "      <th>6815</th>\n",
              "      <td>Kenya</td>\n",
              "      <td>Zuleah Amoit is a member in one of the active ...</td>\n",
              "      <td>F</td>\n",
              "      <td>325</td>\n",
              "      <td>lender</td>\n",
              "      <td>Retail</td>\n",
              "      <td>1</td>\n",
              "      <td>[zuleah, amoit, member, one, active, group, pe...</td>\n",
              "    </tr>\n",
              "    <tr>\n",
              "      <th>6816</th>\n",
              "      <td>Kenya</td>\n",
              "      <td>Zuleya is an active member of PEMCI. She has s...</td>\n",
              "      <td>F</td>\n",
              "      <td>450</td>\n",
              "      <td>partner</td>\n",
              "      <td>Retail</td>\n",
              "      <td>0</td>\n",
              "      <td>[zuleya, active, member, pemci, successfully, ...</td>\n",
              "    </tr>\n",
              "    <tr>\n",
              "      <th>6817</th>\n",
              "      <td>Kenya</td>\n",
              "      <td>Zuleya is Married with Nine Children she start...</td>\n",
              "      <td>F</td>\n",
              "      <td>375</td>\n",
              "      <td>partner</td>\n",
              "      <td>Retail</td>\n",
              "      <td>0</td>\n",
              "      <td>[zuleya, married, nine, child, started, busine...</td>\n",
              "    </tr>\n",
              "  </tbody>\n",
              "</table>\n",
              "<p>6818 rows × 8 columns</p>\n",
              "</div>"
            ],
            "text/plain": [
              "                 country  ...                                           en_clean\n",
              "0     Dominican Republic  ...  [banco, esperanza, group, 10, woman, looking, ...\n",
              "1     Dominican Republic  ...  [caminemos, hacia, adelante, walking, forward,...\n",
              "2     Dominican Republic  ...  [creciendo, por, la, union, group, 10, people,...\n",
              "3     Dominican Republic  ...  [cristo, vive, christ, life, group, 10, woman,...\n",
              "4     Dominican Republic  ...  [cristo, vive, large, group, 35, people, 20, h...\n",
              "...                  ...  ...                                                ...\n",
              "6813               Kenya  ...  [zipporah, wanjiku, wambu, 34, year, old, moth...\n",
              "6814               Kenya  ...  [zirah, ateso, achara, 38, year, old, married,...\n",
              "6815               Kenya  ...  [zuleah, amoit, member, one, active, group, pe...\n",
              "6816               Kenya  ...  [zuleya, active, member, pemci, successfully, ...\n",
              "6817               Kenya  ...  [zuleya, married, nine, child, started, busine...\n",
              "\n",
              "[6818 rows x 8 columns]"
            ]
          },
          "metadata": {
            "tags": []
          },
          "execution_count": 21
        }
      ]
    },
    {
      "cell_type": "markdown",
      "metadata": {
        "id": "bFSwwR1oXj2b"
      },
      "source": [
        "# Create Dictionary from the articles"
      ]
    },
    {
      "cell_type": "code",
      "metadata": {
        "colab": {
          "base_uri": "https://localhost:8080/"
        },
        "id": "7LEYRUKhXm9F",
        "outputId": "94cb5307-3e80-4e51-8eee-e48d490b9086"
      },
      "source": [
        "dictionary = corpora.Dictionary(df['en_clean'])\n",
        "#Total number of non-zeroes in the BOW matrix (sum of the number of unique words per document over the entire corpus).\n",
        "print(dictionary.num_nnz)"
      ],
      "execution_count": 22,
      "outputs": [
        {
          "output_type": "stream",
          "text": [
            "532277\n"
          ],
          "name": "stdout"
        }
      ]
    },
    {
      "cell_type": "markdown",
      "metadata": {
        "id": "g8ooZYPJfJpy"
      },
      "source": [
        "# Create Document Term Matrix"
      ]
    },
    {
      "cell_type": "code",
      "metadata": {
        "colab": {
          "base_uri": "https://localhost:8080/"
        },
        "id": "oTc3Z8WPfNsz",
        "outputId": "a5f4e031-b231-469b-b2b7-9209fb329013"
      },
      "source": [
        "doc_term_matrix = [dictionary.doc2bow(doc) for doc in df['en_clean'] ]\n",
        "print(len(doc_term_matrix))"
      ],
      "execution_count": 24,
      "outputs": [
        {
          "output_type": "stream",
          "text": [
            "6818\n"
          ],
          "name": "stdout"
        }
      ]
    },
    {
      "cell_type": "markdown",
      "metadata": {
        "id": "G0jHzKv0fWBb"
      },
      "source": [
        "# Creating LDA Model"
      ]
    },
    {
      "cell_type": "code",
      "metadata": {
        "id": "y-kyQrpjfaeH"
      },
      "source": [
        "lda = gensim.models.ldamodel.LdaModel"
      ],
      "execution_count": 26,
      "outputs": []
    },
    {
      "cell_type": "markdown",
      "metadata": {
        "id": "cIPq2sQofkMp"
      },
      "source": [
        "# Fit LDA model on the dataset"
      ]
    },
    {
      "cell_type": "code",
      "metadata": {
        "colab": {
          "base_uri": "https://localhost:8080/"
        },
        "id": "R9aJAjgufo4e",
        "outputId": "745f419d-3d04-4a4f-bf2f-af7fec185010"
      },
      "source": [
        "num_topics=5\n",
        "% time ldamodel = lda(doc_term_matrix,num_topics=num_topics,id2word=dictionary,passes=50,minimum_probability=0)"
      ],
      "execution_count": 38,
      "outputs": [
        {
          "output_type": "stream",
          "text": [
            "CPU times: user 2min 52s, sys: 1.29 s, total: 2min 54s\n",
            "Wall time: 2min 52s\n"
          ],
          "name": "stdout"
        }
      ]
    },
    {
      "cell_type": "markdown",
      "metadata": {
        "id": "Wu-zknqulmAR"
      },
      "source": [
        "# Saving the model"
      ]
    },
    {
      "cell_type": "code",
      "metadata": {
        "id": "TBOBIXaSlLvt"
      },
      "source": [
        "ldamodel.save('lda.pkl')"
      ],
      "execution_count": 42,
      "outputs": []
    },
    {
      "cell_type": "markdown",
      "metadata": {
        "id": "zYFIb1OKghgq"
      },
      "source": [
        "#Printing Model Topics"
      ]
    },
    {
      "cell_type": "code",
      "metadata": {
        "colab": {
          "base_uri": "https://localhost:8080/"
        },
        "id": "CYp0gYnogkga",
        "outputId": "981e3bea-ebb8-404d-ebfb-172d09928ff6"
      },
      "source": [
        "ldamodel.print_topics(num_topics=num_topics)"
      ],
      "execution_count": 39,
      "outputs": [
        {
          "output_type": "execute_result",
          "data": {
            "text/plain": [
              "[(0,\n",
              "  '0.021*\"rice\" + 0.018*\"farmer\" + 0.013*\"land\" + 0.013*\"p\" + 0.013*\"loan\" + 0.011*\"sector\" + 0.010*\"baba\" + 0.010*\"de\" + 0.010*\"also\" + 0.010*\"area\"'),\n",
              " (1,\n",
              "  '0.028*\"business\" + 0.021*\"p\" + 0.018*\"year\" + 0.014*\"loan\" + 0.010*\"work\" + 0.010*\"child\" + 0.010*\"home\" + 0.010*\"kiva\" + 0.009*\"sell\" + 0.009*\"product\"'),\n",
              " (2,\n",
              "  '0.024*\"loan\" + 0.022*\"business\" + 0.012*\"child\" + 0.011*\"sell\" + 0.010*\"group\" + 0.009*\"community\" + 0.009*\"year\" + 0.009*\"small\" + 0.008*\"woman\" + 0.008*\"clothing\"'),\n",
              " (3,\n",
              "  '0.027*\"business\" + 0.019*\"loan\" + 0.013*\"child\" + 0.013*\"u\" + 0.011*\"school\" + 0.010*\"year\" + 0.010*\"family\" + 0.009*\"able\" + 0.008*\"stock\" + 0.007*\"buy\"'),\n",
              " (4,\n",
              "  '0.025*\"loan\" + 0.022*\"group\" + 0.019*\"child\" + 0.015*\"member\" + 0.013*\"school\" + 0.013*\"year\" + 0.011*\"business\" + 0.010*\"woman\" + 0.010*\"married\" + 0.010*\"dairy\"')]"
            ]
          },
          "metadata": {
            "tags": []
          },
          "execution_count": 39
        }
      ]
    },
    {
      "cell_type": "markdown",
      "metadata": {
        "id": "mbj3IJVwgs2Q"
      },
      "source": [
        "# Topic Model Visualization"
      ]
    },
    {
      "cell_type": "code",
      "metadata": {
        "colab": {
          "base_uri": "https://localhost:8080/",
          "height": 915
        },
        "id": "YASywMqCgxDr",
        "outputId": "40f1a2fd-fe7a-4ad6-fa07-d5992f3ef1d6"
      },
      "source": [
        "lda_display = pyLDAvis.gensim_models.prepare(ldamodel, doc_term_matrix, dictionary, sort_topics=False, mds='mmds')\n",
        "pyLDAvis.display(lda_display)"
      ],
      "execution_count": 40,
      "outputs": [
        {
          "output_type": "stream",
          "text": [
            "/usr/local/lib/python3.7/dist-packages/pyLDAvis/_prepare.py:247: FutureWarning: In a future version of pandas all arguments of DataFrame.drop except for the argument 'labels' will be keyword-only\n",
            "  by='saliency', ascending=False).head(R).drop('saliency', 1)\n"
          ],
          "name": "stderr"
        },
        {
          "output_type": "execute_result",
          "data": {
            "text/html": [
              "\n",
              "<link rel=\"stylesheet\" type=\"text/css\" href=\"https://cdn.jsdelivr.net/gh/bmabey/pyLDAvis@3.3.1/pyLDAvis/js/ldavis.v1.0.0.css\">\n",
              "\n",
              "\n",
              "<div id=\"ldavis_el1921402630275292968576688975\"></div>\n",
              "<script type=\"text/javascript\">\n",
              "\n",
              "var ldavis_el1921402630275292968576688975_data = {\"mdsDat\": {\"x\": [-0.14942482757975925, -0.030188392227422974, -0.1280086233572082, 0.11107567264546472, 0.19654617051892573], \"y\": [0.2756703666768126, -0.20746532256333922, -0.06142150818245243, -0.08400382141063362, 0.07722028547961263], \"topics\": [1, 2, 3, 4, 5], \"cluster\": [1, 1, 1, 1, 1], \"Freq\": [13.592000665674131, 20.999934976677817, 26.318743097161164, 23.415596801683147, 15.673724458803736]}, \"tinfo\": {\"Term\": [\"group\", \"rice\", \"farmer\", \"u\", \"member\", \"land\", \"p\", \"sector\", \"woman\", \"business\", \"dairy\", \"baba\", \"cow\", \"de\", \"milk\", \"kiva\", \"clothing\", \"married\", \"school\", \"church\", \"bank\", \"usd\", \"crop\", \"farming\", \"program\", \"water\", \"mifex\", \"child\", \"farm\", \"esperanza\", \"baba\", \"communal\", \"su\", \"lucia\", \"centro\", \"agricola\", \"en\", \"que\", \"cacao\", \"commercialize\", \"rio\", \"participate\", \"robert\", \"tiene\", \"infrastructure\", \"intermediary\", \"flooding\", \"cultivation\", \"para\", \"babah4\", \"psalitre\", \"soil\", \"promoting\", \"designed\", \"fertile\", \"evaluating\", \"forgotten\", \"guarantor\", \"compiled\", \"h4economy\", \"productive\", \"sector\", \"county\", \"rice\", \"machinery\", \"cultivate\", \"debt\", \"association\", \"land\", \"crop\", \"farmer\", \"de\", \"pthe\", \"finance\", \"river\", \"santa\", \"rural\", \"often\", \"seed\", \"program\", \"prepare\", \"water\", \"production\", \"mifex\", \"bank\", \"area\", \"part\", \"p\", \"farm\", \"also\", \"loan\", \"many\", \"people\", \"month\", \"lack\", \"small\", \"capital\", \"volunteerbp\", \"h4personal\", \"pbtranslated\", \"microinsurance\", \"h4business\", \"informationh4\", \"pmifex\", \"hrefhttpwwwmifexorgwwwmifexorgap\", \"descriptionh4\", \"phone\", \"btranslated\", \"computer\", \"kadet\", \"mobile\", \"description\", \"cart\", \"bp\", \"seafood\", \"david\", \"cement\", \"loanh4\", \"h4use\", \"ppersonal\", \"carpentry\", \"glass\", \"soda\", \"pmr\", \"appliance\", \"monday\", \"agency\", \"h4\", \"volunteer\", \"timber\", \"b\", \"pm\", \"workshop\", \"guayaquil\", \"translated\", \"educational\", \"mr\", \"kiva\", \"phe\", \"spanish\", \"a\", \"tool\", \"home\", \"please\", \"merchandise\", \"p\", \"made\", \"client\", \"offer\", \"work\", \"began\", \"business\", \"product\", \"year\", \"service\", \"house\", \"help\", \"old\", \"information\", \"store\", \"sell\", \"order\", \"able\", \"also\", \"wife\", \"invest\", \"loan\", \"started\", \"child\", \"husband\", \"make\", \"buy\", \"selling\", \"school\", \"family\", \"need\", \"esperanza\", \"thank\", \"dominican\", \"international\", \"santo\", \"shell\", \"explains\", \"san\", \"republic\", \"jewelry\", \"ana\", \"mara\", \"pant\", \"carmen\", \"cafeteria\", \"juana\", \"perfume\", \"cristobal\", \"altagracia\", \"excited\", \"domingo\", \"mercedes\", \"microentrepreneurs\", \"mujeres\", \"fsma\", \"esperanzas\", \"francisca\", \"respective\", \"colmado\", \"maria\", \"shes\", \"behalf\", \"coordinator\", \"beauty\", \"clothing\", \"candy\", \"entrepreneur\", \"receive\", \"hope\", \"say\", \"rosa\", \"community\", \"woman\", \"keep\", \"small\", \"store\", \"loan\", \"life\", \"sell\", \"business\", \"group\", \"support\", \"good\", \"child\", \"five\", \"husband\", \"family\", \"buy\", \"one\", \"new\", \"year\", \"product\", \"selling\", \"help\", \"p\", \"two\", \"member\", \"house\", \"mother\", \"u\", \"pemci\", \"stall\", \"ksh\", \"slum\", \"budget\", \"represent\", \"accept\", \"affecting\", \"license\", \"unsettled\", \"follows\", \"bale\", \"kisumu\", \"kibera\", \"charcoal\", \"breadwinner\", \"capable\", \"shilling\", \"us100\", \"hence\", \"malaba\", \"municipal\", \"drug\", \"us200\", \"paul\", \"disclaimer\", \"pu\", \"joseph\", \"ebf\", \"remains\", \"aware\", \"transport\", \"mombasa\", \"bicycle\", \"nakuru\", \"secondhand\", \"unable\", \"recent\", \"premise\", \"stock\", \"cater\", \"kenya\", \"200\", \"expand\", \"requesting\", \"man\", \"additional\", \"business\", \"clothes\", \"due\", \"school\", \"family\", \"care\", \"shop\", \"risk\", \"able\", \"purchase\", \"fee\", \"customer\", \"loan\", \"therefore\", \"child\", \"market\", \"married\", \"meet\", \"year\", \"pay\", \"two\", \"need\", \"buy\", \"income\", \"increase\", \"also\", \"old\", \"one\", \"sell\", \"community\", \"husband\", \"dairy\", \"church\", \"weec\", \"steer\", \"litre\", \"susan\", \"catholic\", \"ack\", \"st\", \"kiambu\", \"approved\", \"2002\", \"maize\", \"bead\", \"goat\", \"committee\", \"revolving\", \"rear\", \"chairlady\", \"liter\", \"maragwa\", \"society\", \"cow\", \"treasurer\", \"isinya\", \"rearing\", \"0in\", \"acre\", \"kale\", \"joyce\", \"milk\", \"active\", \"usd\", \"monthly\", \"grows\", \"secretary\", \"joined\", \"basis\", \"applied\", \"farming\", \"group\", \"member\", \"feed\", \"per\", \"willing\", \"period\", \"primary\", \"married\", \"woman\", \"born\", \"secondary\", \"child\", \"school\", \"repay\", \"loan\", \"month\", \"year\", \"income\", \"farm\", \"buy\", \"two\", \"also\", \"business\", \"sell\", \"old\", \"one\", \"able\", \"farmer\"], \"Freq\": [4431.0, 2184.0, 2213.0, 2054.0, 2831.0, 1516.0, 6096.0, 1130.0, 2810.0, 13502.0, 1068.0, 964.0, 1032.0, 1169.0, 994.0, 1639.0, 1624.0, 2629.0, 4542.0, 728.0, 1111.0, 857.0, 809.0, 1016.0, 1021.0, 1011.0, 905.0, 7871.0, 1031.0, 868.0, 963.3747286383325, 519.5055997772718, 456.9568320661428, 425.0496397579346, 326.97642828699384, 325.34327630081344, 316.38798073260415, 302.06933212980755, 288.24713590887313, 251.41389617762275, 221.0791700294547, 191.03885243480175, 190.78144534836966, 184.6717357426261, 185.4849557389907, 179.55037786046336, 177.2212947571123, 173.65236324562497, 175.23861678074806, 169.90170558023445, 166.11050875694502, 157.51164355434878, 159.7771230382281, 153.4049830388517, 147.4575369435803, 147.42871171055808, 146.75705278626594, 145.40940634317894, 145.25543663353184, 144.31071286738398, 257.91191811787263, 1052.0028827768776, 231.58119532421594, 1912.5728720766608, 355.57373141695894, 246.32917637436256, 256.95511703866765, 475.7688823994567, 1238.5823637154754, 689.5600673358476, 1679.187026920853, 906.7260169285851, 404.42603521759975, 401.9997137123072, 269.76803465198066, 476.6658099319837, 614.7047527530175, 451.92869394016094, 376.0610653896136, 678.7102795523666, 396.48459267293094, 645.6924874615089, 478.9425437615702, 590.2951563906843, 649.8811561390303, 875.4603543893521, 663.5201833412273, 1233.296989509264, 528.9393279487465, 893.4475563045261, 1209.4567582984178, 583.150559998483, 578.4974812263076, 546.325699571159, 448.9421988667701, 489.2799114590232, 443.6233501964039, 382.88879174462824, 267.7292033815817, 266.3847134903178, 262.68771306271105, 253.88128776191462, 247.4004898048427, 243.31105751447635, 242.43061644321116, 220.34110328902966, 192.72483176839, 185.35697102000378, 183.17216669019106, 147.41253357661313, 142.59109572999725, 98.60490018441037, 96.80307401479342, 93.6647915369646, 85.43745299312947, 84.1558446728055, 383.01270542853933, 72.32387126519053, 70.68478088381244, 64.39665681584965, 64.52782384273226, 61.42993220590113, 58.05821758332434, 55.85295775298592, 56.15998016057372, 54.6684088217356, 54.34038185578761, 244.9319918330266, 298.4060801453596, 116.73786130068197, 149.34194757655249, 312.80919644206034, 191.25277881633, 205.1429347349636, 156.59426674094001, 292.0021007460642, 310.0451484816193, 1371.3960700026666, 207.70864484126594, 771.4547589328397, 370.9433739062471, 139.12176027574912, 1388.6225820449865, 275.48216421292256, 436.9823328853939, 2966.9157976660454, 601.5525192210234, 1087.077905674464, 607.4827401459838, 1441.922903873338, 367.1779435337939, 3994.3451830862437, 1299.97515530821, 2487.8736861223133, 715.9551673712764, 849.5843182009203, 1120.011005569083, 1155.3797755565713, 384.0758465262961, 811.1330301959666, 1320.2193222349458, 803.9317032298624, 1108.7077789843404, 1202.4891689384287, 535.7314990478812, 547.2927580453097, 1961.2332637722516, 775.3505100400246, 1433.2522486030743, 814.4047873948847, 699.1463025695589, 923.5068229544208, 636.8233339882344, 738.3425918755966, 611.8968679010015, 555.2620394069326, 867.9672689580975, 429.9165348293152, 395.8618548666158, 387.217058877932, 375.9177892452112, 364.7006389243749, 344.96607274707463, 296.075818892851, 260.7735586684766, 261.04468898727634, 240.91287477781356, 230.61511720659004, 193.83185340432496, 183.52149233992162, 175.99273670708186, 167.7861759726339, 174.3533719964948, 153.43198722578882, 140.10918433749362, 139.35336795913435, 375.87946138089427, 126.34803237031157, 110.81762107030393, 105.44569770711306, 105.1503848238131, 98.71035163056554, 94.3261261553127, 93.0537217720134, 91.35036691214543, 577.415774288497, 242.33942878172041, 272.15058088555963, 182.06743416124297, 454.4278663125556, 1418.9425701865864, 153.0775786532031, 1064.4744776560792, 380.5891529242796, 1363.7011905392803, 613.8210367723226, 260.573103110283, 1611.016494984713, 1485.321960979163, 617.5689307097314, 1564.2091494631293, 1085.8960286388874, 4279.262839017076, 1302.079918505263, 1983.7754225140006, 3990.472066831472, 1820.6149458399732, 857.2158477185732, 978.7384392230778, 2180.96955263337, 616.4880932141482, 1081.812579630185, 1327.0754807494588, 1392.6167082024895, 1101.7551551834304, 792.8738767889993, 1587.12904676157, 1001.5421112051014, 879.3873996748416, 923.2006187936569, 1177.443829582126, 896.685021463956, 848.4818132034667, 727.6484610041531, 735.3495471586816, 2053.7913750370685, 469.5094818643262, 346.7642297002217, 316.87647776419226, 261.97285856345843, 217.1223946300761, 182.22773886031996, 179.22723119565708, 176.13410845027963, 175.44855431504158, 171.7481859708633, 167.05552897263485, 157.5744881760517, 140.50383484658502, 137.76885443420556, 138.2166106037519, 129.43765840413278, 121.95842905392999, 118.18677655766689, 107.32192283738833, 107.85339162412532, 105.68941172378989, 105.22833408090418, 102.13295579926675, 98.55258198411772, 99.06894328104829, 92.8834066731179, 91.53154871415018, 94.28292549419889, 91.66059300703058, 188.00187486070618, 175.56540029957736, 338.8878970804817, 139.81193759100776, 255.06655383582344, 187.84814855675265, 220.22993439497634, 154.92232737262938, 192.29306481720468, 204.50864412518575, 1276.5785801087857, 224.0586013241287, 634.4137447961153, 333.83917836637664, 909.9113879755334, 819.7826631335554, 238.05870568335828, 402.08835450997344, 4337.632865856489, 674.4337706877329, 653.4520911336792, 1780.0186923390954, 1613.060841895922, 538.691658280283, 767.8520064363016, 370.78051694468047, 1387.506479399441, 1033.6978693273936, 528.2609906869094, 908.0181368702849, 2997.3439482356766, 377.67100529968445, 2091.3420582438357, 711.9049117178225, 951.1044400226514, 473.732508594422, 1639.6952451556838, 675.102440522968, 995.4634916520193, 775.88031616861, 1136.1989378505546, 825.1712037024653, 693.6008575112525, 936.8519549653392, 810.3927828269559, 769.2996004016661, 839.5242948832416, 698.630795433642, 685.1590757605491, 1067.5571631270004, 727.5586228656917, 429.51782359706283, 384.89474097114606, 257.18982740663904, 211.3094156088243, 167.488888500537, 160.67052511503118, 148.82471841507217, 147.4925159417383, 146.3552305486033, 145.30148280767114, 615.7651794059923, 125.56725924007254, 123.59499171925417, 115.74469553002467, 107.01942316156294, 102.70210535253861, 101.08776302464183, 101.79249641988501, 96.06711685022843, 97.07090591998853, 1022.7806857505205, 90.02318373562338, 83.01002651815153, 80.91525025391383, 78.23758379739508, 78.30818038515221, 77.58728914658683, 68.96280302051056, 941.449078316507, 604.4692323719196, 746.1455902581205, 364.42786828357146, 284.1343560649223, 130.79097536528562, 306.07056953448546, 226.59313316460572, 348.23714233284886, 698.2999360887579, 2316.29060887406, 1581.6393460055533, 298.5051246609408, 460.83145280938817, 365.3346794813401, 351.5600872371003, 441.0605135932336, 1095.8763532748226, 1103.7885940258657, 334.05464773728045, 351.69033596954046, 2023.60405793402, 1407.4733242694945, 634.5330752041953, 2619.992002278766, 711.0163929549774, 1394.7401056436122, 773.8466165694298, 461.99866287345094, 847.1931681964527, 702.826104190701, 758.6737238245968, 1128.7895473519302, 747.8511486031246, 616.3661377892042, 559.5202074694971, 524.565677561901, 447.93184906920385], \"Total\": [4431.0, 2184.0, 2213.0, 2054.0, 2831.0, 1516.0, 6096.0, 1130.0, 2810.0, 13502.0, 1068.0, 964.0, 1032.0, 1169.0, 994.0, 1639.0, 1624.0, 2629.0, 4542.0, 728.0, 1111.0, 857.0, 809.0, 1016.0, 1021.0, 1011.0, 905.0, 7871.0, 1031.0, 868.0, 964.1674796826469, 520.3066821736701, 457.75087440965467, 425.85233618806615, 327.76911278764817, 326.1358901982515, 317.19831917817726, 302.8633745035692, 289.0399278559888, 252.206511998527, 221.8762420552404, 191.83750407081766, 191.5940483314084, 185.46558550137385, 186.2838810407885, 180.34495137924992, 178.0144723335829, 174.4498527104317, 176.04697648954829, 170.6943220229866, 166.9031264368797, 158.3112694547272, 160.6033330820871, 154.2070437972554, 148.251046335287, 148.22425311591894, 147.55339120195424, 146.2030828581942, 146.05021566816868, 145.10332886891152, 263.51231573059766, 1130.3643314194649, 236.81672217375728, 2184.2986002920034, 372.3322657435778, 253.80535663023502, 265.4293596184355, 525.6507173468591, 1516.5048751531972, 809.4266894184934, 2213.793043010778, 1169.7583297583942, 471.38835840658993, 470.64660461027734, 293.9239124281721, 592.0191661171876, 834.1508575490133, 568.6123960214946, 457.3566520325766, 1021.1938192467985, 503.5994212503542, 1011.320659892526, 664.5445461351658, 905.9223678198072, 1111.881572155661, 1884.9655906195383, 1255.2511712877272, 6096.474812133749, 1031.1735939683874, 4368.767623542132, 13067.288811602188, 1685.6306134385336, 1790.674581535871, 1858.582488359665, 950.9953918760554, 3202.392462346355, 1555.51860822659, 383.70198938834, 268.5401802765672, 267.19868720171064, 263.49965785393243, 254.69217067023035, 248.21586628207865, 244.12306785087952, 243.24261053342528, 221.15631157099904, 193.55131084686818, 186.1696383440052, 184.01522538089202, 148.22753068477664, 143.41938542617254, 99.421977785815, 97.62401267343525, 94.47631100007915, 86.2522092504724, 84.98657888598403, 387.14424592699635, 73.13532132155888, 71.49582777802192, 65.20863176617901, 65.35612229247886, 62.25355204571664, 58.876833409091546, 56.66418160467999, 56.982559126161824, 55.48361217513544, 55.15627188846971, 249.82283859088045, 307.4355843528256, 119.25268809662325, 152.95205864881723, 327.6656132573758, 199.1014078352341, 215.75157802353317, 163.38080948496398, 314.624198205663, 336.12041287733274, 1639.857722581407, 221.4490765614599, 909.1400194678516, 423.144743590656, 146.25404530543418, 2158.113907249568, 324.0790807748577, 572.7559557995897, 6096.474812133749, 863.5878884082153, 1822.4082248373245, 929.693252297838, 3085.6646276670695, 479.1058264833588, 13502.84928696899, 2857.2973121183086, 7378.976970023704, 1398.1262194090257, 1844.1017780894526, 2936.5213172334525, 3306.653357901935, 537.0244766664955, 2035.2438513578002, 4911.99448615236, 2041.1988534043119, 3740.3431832871406, 4368.767623542132, 993.3651741098354, 1047.404878611568, 13067.288811602188, 2111.704923634907, 7871.613935897211, 2747.0741971947878, 2194.7305734808942, 4615.264460878608, 2447.675852389632, 4542.30931862764, 4055.9915108276655, 2067.687937508551, 868.7356773930511, 430.6836452202829, 396.62426028414046, 387.98434379157334, 376.6803087200853, 365.4653606063587, 345.7295814337986, 296.83996199438957, 261.5360336758179, 261.8277032859481, 241.6889254097812, 231.38139241722487, 194.59819217130976, 184.290730267006, 176.75827849750814, 168.55248832891118, 175.15207699957728, 154.19464031983358, 140.8714586909374, 140.12045124842925, 378.01795597144786, 127.1199605155753, 111.58009959263002, 106.20815330570913, 105.91245902239888, 99.47259877238501, 95.10003023733168, 93.81819645566561, 92.11274405556028, 582.7840082063726, 246.550098679778, 278.27091615493134, 188.08785073385576, 488.93034666260303, 1624.6199471886748, 157.62655426484991, 1422.7644787153074, 452.015373387123, 2034.6083513824947, 800.123263840011, 295.4081422122221, 2675.8768462116145, 2810.442917751522, 908.2224232718103, 3202.392462346355, 2035.2438513578002, 13067.288811602188, 2720.92726352359, 4911.99448615236, 13502.84928696899, 4431.811104781858, 1586.031016992828, 2095.9867194163858, 7871.613935897211, 1073.9913456669024, 2747.0741971947878, 4055.9915108276655, 4615.264460878608, 3180.5869015168137, 1737.814470504471, 7378.976970023704, 2857.2973121183086, 2447.675852389632, 2936.5213172334525, 6096.474812133749, 3192.9220601251445, 2831.641706785538, 1844.1017780894526, 1948.3049341999265, 2054.702293049779, 470.4046378315506, 347.6755334087059, 317.7714674953217, 262.8684559036629, 218.03184203089108, 183.13440913719649, 180.12307271001185, 177.0260127303714, 176.34044698542448, 172.6399946390281, 167.9497192599047, 158.4694793558611, 141.3963705915736, 138.6624317328378, 139.1278330147493, 130.3341779694121, 122.85477623207025, 119.08098194441773, 108.21369407148802, 108.75342638126271, 106.58474110711673, 106.138389496972, 103.02855299034496, 99.44477392650134, 99.96886065928142, 93.77549618805703, 92.42305868739726, 95.2029090855135, 92.555867116833, 191.825027647045, 179.6206715579174, 355.032835859018, 142.67630244109964, 265.41917199132183, 193.75467987797143, 232.28441170923466, 161.48121084236817, 206.52276543665283, 221.34889494236023, 1706.1638024744213, 250.2561308213336, 873.964011985465, 407.41041774161624, 1379.779434365125, 1261.6338929561978, 278.18219187041325, 564.1579539346714, 13502.84928696899, 1139.6941775445796, 1111.794764075392, 4542.30931862764, 4055.9915108276655, 896.9058685461114, 1532.096034209404, 528.1778829705519, 3740.3431832871406, 2443.6428422191634, 903.6737714983758, 2091.6923259953633, 13067.288811602188, 557.2254291578673, 7871.613935897211, 1507.9684458583267, 2629.272505514391, 826.7432446762443, 7378.976970023704, 1545.1204205745382, 3192.9220601251445, 2067.687937508551, 4615.264460878608, 2788.510774177294, 1989.2079522791107, 4368.767623542132, 3306.653357901935, 3180.5869015168137, 4911.99448615236, 2675.8768462116145, 2747.0741971947878, 1068.4506362721854, 728.4598625600403, 430.4061478296483, 385.78744029664955, 258.07845065127606, 212.23260310775237, 168.38048452799148, 161.5583816408058, 149.7157636197915, 148.38080110389242, 147.24775986046237, 146.2176896684797, 619.8582221133483, 126.45782894824254, 124.48722681266605, 116.63252330085503, 107.90889230688032, 103.59250618651272, 101.97664464323958, 102.69856643179243, 96.95490011047293, 98.00041968907888, 1032.831367378622, 90.91270559617124, 83.89842055484505, 81.8062846048805, 79.12585994598093, 79.20248761192933, 78.48804640036819, 69.86197291917979, 994.0048766242691, 657.696879319771, 857.3173305654791, 401.10855547017405, 315.8342066504562, 137.7256098339592, 363.07705256715553, 259.91113070994726, 441.464810305432, 1016.6860044712985, 4431.811104781858, 2831.641706785538, 394.5520412709099, 689.9443803138258, 526.0663970992916, 523.555254363622, 719.6484294913173, 2629.272505514391, 2810.442917751522, 506.03416075069595, 547.2343577099717, 7871.613935897211, 4542.30931862764, 1344.0554973994485, 13067.288811602188, 1858.582488359665, 7378.976970023704, 2788.510774177294, 1031.1735939683874, 4615.264460878608, 3192.9220601251445, 4368.767623542132, 13502.84928696899, 4911.99448615236, 3306.653357901935, 3180.5869015168137, 3740.3431832871406, 2213.793043010778], \"Category\": [\"Default\", \"Default\", \"Default\", \"Default\", \"Default\", \"Default\", \"Default\", \"Default\", \"Default\", \"Default\", \"Default\", \"Default\", \"Default\", \"Default\", \"Default\", \"Default\", \"Default\", \"Default\", \"Default\", \"Default\", \"Default\", \"Default\", \"Default\", \"Default\", \"Default\", \"Default\", \"Default\", \"Default\", \"Default\", \"Default\", \"Topic1\", \"Topic1\", \"Topic1\", \"Topic1\", \"Topic1\", \"Topic1\", \"Topic1\", \"Topic1\", \"Topic1\", \"Topic1\", \"Topic1\", \"Topic1\", \"Topic1\", \"Topic1\", \"Topic1\", \"Topic1\", \"Topic1\", \"Topic1\", \"Topic1\", \"Topic1\", \"Topic1\", \"Topic1\", \"Topic1\", \"Topic1\", \"Topic1\", \"Topic1\", \"Topic1\", \"Topic1\", \"Topic1\", \"Topic1\", \"Topic1\", \"Topic1\", \"Topic1\", \"Topic1\", \"Topic1\", \"Topic1\", \"Topic1\", \"Topic1\", \"Topic1\", \"Topic1\", \"Topic1\", \"Topic1\", \"Topic1\", \"Topic1\", \"Topic1\", \"Topic1\", \"Topic1\", \"Topic1\", \"Topic1\", \"Topic1\", \"Topic1\", \"Topic1\", \"Topic1\", \"Topic1\", \"Topic1\", \"Topic1\", \"Topic1\", \"Topic1\", \"Topic1\", \"Topic1\", \"Topic1\", \"Topic1\", \"Topic1\", \"Topic1\", \"Topic1\", \"Topic1\", \"Topic1\", \"Topic2\", \"Topic2\", \"Topic2\", \"Topic2\", \"Topic2\", \"Topic2\", \"Topic2\", \"Topic2\", \"Topic2\", \"Topic2\", \"Topic2\", \"Topic2\", \"Topic2\", \"Topic2\", \"Topic2\", \"Topic2\", \"Topic2\", \"Topic2\", \"Topic2\", \"Topic2\", \"Topic2\", \"Topic2\", \"Topic2\", \"Topic2\", \"Topic2\", \"Topic2\", \"Topic2\", \"Topic2\", \"Topic2\", \"Topic2\", \"Topic2\", \"Topic2\", \"Topic2\", \"Topic2\", \"Topic2\", \"Topic2\", \"Topic2\", \"Topic2\", \"Topic2\", \"Topic2\", \"Topic2\", \"Topic2\", \"Topic2\", \"Topic2\", \"Topic2\", \"Topic2\", \"Topic2\", \"Topic2\", \"Topic2\", \"Topic2\", \"Topic2\", \"Topic2\", \"Topic2\", \"Topic2\", \"Topic2\", \"Topic2\", \"Topic2\", \"Topic2\", \"Topic2\", \"Topic2\", \"Topic2\", \"Topic2\", \"Topic2\", \"Topic2\", \"Topic2\", \"Topic2\", \"Topic2\", \"Topic2\", \"Topic2\", \"Topic2\", \"Topic2\", \"Topic2\", \"Topic2\", \"Topic2\", \"Topic2\", \"Topic2\", \"Topic2\", \"Topic2\", \"Topic2\", \"Topic3\", \"Topic3\", \"Topic3\", \"Topic3\", \"Topic3\", \"Topic3\", \"Topic3\", \"Topic3\", \"Topic3\", \"Topic3\", \"Topic3\", \"Topic3\", \"Topic3\", \"Topic3\", \"Topic3\", \"Topic3\", \"Topic3\", \"Topic3\", \"Topic3\", \"Topic3\", \"Topic3\", \"Topic3\", \"Topic3\", \"Topic3\", \"Topic3\", \"Topic3\", \"Topic3\", \"Topic3\", \"Topic3\", \"Topic3\", \"Topic3\", \"Topic3\", \"Topic3\", \"Topic3\", \"Topic3\", \"Topic3\", \"Topic3\", \"Topic3\", \"Topic3\", \"Topic3\", \"Topic3\", \"Topic3\", \"Topic3\", \"Topic3\", \"Topic3\", \"Topic3\", \"Topic3\", \"Topic3\", \"Topic3\", \"Topic3\", \"Topic3\", \"Topic3\", \"Topic3\", \"Topic3\", \"Topic3\", \"Topic3\", \"Topic3\", \"Topic3\", \"Topic3\", \"Topic3\", \"Topic3\", \"Topic3\", \"Topic3\", \"Topic3\", \"Topic3\", \"Topic3\", \"Topic3\", \"Topic3\", \"Topic3\", \"Topic4\", \"Topic4\", \"Topic4\", \"Topic4\", \"Topic4\", \"Topic4\", \"Topic4\", \"Topic4\", \"Topic4\", \"Topic4\", \"Topic4\", \"Topic4\", \"Topic4\", \"Topic4\", \"Topic4\", \"Topic4\", \"Topic4\", \"Topic4\", \"Topic4\", \"Topic4\", \"Topic4\", \"Topic4\", \"Topic4\", \"Topic4\", \"Topic4\", \"Topic4\", \"Topic4\", \"Topic4\", \"Topic4\", \"Topic4\", \"Topic4\", \"Topic4\", \"Topic4\", \"Topic4\", \"Topic4\", \"Topic4\", \"Topic4\", \"Topic4\", \"Topic4\", \"Topic4\", \"Topic4\", \"Topic4\", \"Topic4\", \"Topic4\", \"Topic4\", \"Topic4\", \"Topic4\", \"Topic4\", \"Topic4\", \"Topic4\", \"Topic4\", \"Topic4\", \"Topic4\", \"Topic4\", \"Topic4\", \"Topic4\", \"Topic4\", \"Topic4\", \"Topic4\", \"Topic4\", \"Topic4\", \"Topic4\", \"Topic4\", \"Topic4\", \"Topic4\", \"Topic4\", \"Topic4\", \"Topic4\", \"Topic4\", \"Topic4\", \"Topic4\", \"Topic4\", \"Topic4\", \"Topic4\", \"Topic4\", \"Topic4\", \"Topic4\", \"Topic4\", \"Topic4\", \"Topic5\", \"Topic5\", \"Topic5\", \"Topic5\", \"Topic5\", \"Topic5\", \"Topic5\", \"Topic5\", \"Topic5\", \"Topic5\", \"Topic5\", \"Topic5\", \"Topic5\", \"Topic5\", \"Topic5\", \"Topic5\", \"Topic5\", \"Topic5\", \"Topic5\", \"Topic5\", \"Topic5\", \"Topic5\", \"Topic5\", \"Topic5\", \"Topic5\", \"Topic5\", \"Topic5\", \"Topic5\", \"Topic5\", \"Topic5\", \"Topic5\", \"Topic5\", \"Topic5\", \"Topic5\", \"Topic5\", \"Topic5\", \"Topic5\", \"Topic5\", \"Topic5\", \"Topic5\", \"Topic5\", \"Topic5\", \"Topic5\", \"Topic5\", \"Topic5\", \"Topic5\", \"Topic5\", \"Topic5\", \"Topic5\", \"Topic5\", \"Topic5\", \"Topic5\", \"Topic5\", \"Topic5\", \"Topic5\", \"Topic5\", \"Topic5\", \"Topic5\", \"Topic5\", \"Topic5\", \"Topic5\", \"Topic5\", \"Topic5\", \"Topic5\", \"Topic5\", \"Topic5\", \"Topic5\", \"Topic5\"], \"logprob\": [30.0, 29.0, 28.0, 27.0, 26.0, 25.0, 24.0, 23.0, 22.0, 21.0, 20.0, 19.0, 18.0, 17.0, 16.0, 15.0, 14.0, 13.0, 12.0, 11.0, 10.0, 9.0, 8.0, 7.0, 6.0, 5.0, 4.0, 3.0, 2.0, 1.0, -4.557, -5.1746, -5.3029, -5.3753, -5.6376, -5.6426, -5.6705, -5.7168, -5.7636, -5.9004, -6.0289, -6.175, -6.1763, -6.2089, -6.2045, -6.237, -6.2501, -6.2704, -6.2613, -6.2922, -6.3148, -6.368, -6.3537, -6.3944, -6.4339, -6.4341, -6.4387, -6.4479, -6.449, -6.4555, -5.8748, -4.469, -5.9825, -3.8713, -5.5537, -5.9208, -5.8786, -5.2625, -4.3057, -4.8914, -4.0014, -4.6176, -5.425, -5.431, -5.8299, -5.2606, -5.0063, -5.3139, -5.4977, -4.9073, -5.4448, -4.9571, -5.2559, -5.0468, -4.9507, -4.6527, -4.9299, -4.31, -5.1566, -4.6324, -4.3295, -5.059, -5.067, -5.1242, -5.3206, -5.2345, -5.3325, -5.9148, -6.2725, -6.2776, -6.2915, -6.3256, -6.3515, -6.3682, -6.3718, -6.4673, -6.6012, -6.6402, -6.6521, -6.8693, -6.9025, -7.2714, -7.2898, -7.3228, -7.4147, -7.4298, -5.9144, -7.5813, -7.6043, -7.6974, -7.6954, -7.7446, -7.801, -7.8398, -7.8343, -7.8612, -7.8672, -6.3615, -6.164, -7.1026, -6.8563, -6.1169, -6.6089, -6.5388, -6.8088, -6.1857, -6.1258, -4.6389, -6.5264, -5.2142, -5.9464, -6.9271, -4.6264, -6.244, -5.7826, -3.8672, -5.463, -4.8712, -5.4532, -4.5888, -5.9566, -3.5699, -4.6924, -4.0433, -5.2889, -5.1177, -4.8414, -4.8103, -5.9117, -5.1641, -4.6769, -5.173, -4.8515, -4.7703, -5.5789, -5.5575, -4.2812, -5.2092, -4.5948, -5.16, -5.3126, -5.0343, -5.406, -5.2581, -5.4459, -5.5431, -5.3221, -6.0247, -6.1072, -6.1293, -6.1589, -6.1892, -6.2448, -6.3976, -6.5246, -6.5236, -6.6038, -6.6475, -6.8213, -6.8759, -6.9178, -6.9656, -6.9272, -7.055, -7.1458, -7.1512, -6.159, -7.2492, -7.3804, -7.4301, -7.4329, -7.4961, -7.5415, -7.5551, -7.5736, -5.7297, -6.5979, -6.4819, -6.8839, -5.9692, -4.8306, -7.0573, -5.118, -6.1465, -4.8703, -5.6686, -6.5254, -4.7036, -4.7849, -5.6625, -4.7331, -5.0981, -3.7267, -4.9165, -4.4955, -3.7966, -4.5813, -5.3346, -5.202, -4.4007, -5.6642, -5.1019, -4.8975, -4.8493, -5.0836, -5.4126, -4.7186, -5.179, -5.309, -5.2604, -5.0172, -5.2896, -5.3448, -5.4984, -5.4879, -4.3439, -5.8197, -6.1227, -6.2129, -6.4031, -6.5909, -6.7661, -6.7827, -6.8001, -6.804, -6.8253, -6.8531, -6.9115, -7.0261, -7.0458, -7.0426, -7.1082, -7.1677, -7.1991, -7.2955, -7.2906, -7.3109, -7.3152, -7.3451, -7.3808, -7.3756, -7.44, -7.4547, -7.4251, -7.4533, -6.7349, -6.8034, -6.1457, -7.0311, -6.4299, -6.7357, -6.5767, -6.9285, -6.7124, -6.6508, -4.8194, -6.5595, -5.5187, -6.1607, -5.158, -5.2623, -6.4989, -5.9747, -3.5963, -5.4575, -5.4891, -4.487, -4.5855, -5.6822, -5.3278, -6.0558, -4.7361, -5.0305, -5.7018, -5.1601, -3.9659, -6.0374, -4.3258, -5.4034, -5.1138, -5.8107, -4.5691, -5.4565, -5.0682, -5.3174, -4.9359, -5.2558, -5.4295, -5.1289, -5.2739, -5.3259, -5.2385, -5.4223, -5.4417, -4.5968, -4.9803, -5.5073, -5.617, -6.0201, -6.2166, -6.449, -6.4906, -6.5672, -6.5762, -6.5839, -6.5912, -5.1471, -6.7371, -6.753, -6.8186, -6.897, -6.9381, -6.954, -6.947, -7.0049, -6.9945, -4.6397, -7.0699, -7.151, -7.1766, -7.2102, -7.2093, -7.2186, -7.3364, -4.7225, -5.1656, -4.955, -5.6716, -5.9205, -6.6964, -5.8461, -6.1468, -5.7171, -5.0213, -3.8222, -4.2037, -5.8712, -5.4369, -5.6691, -5.7076, -5.4808, -4.5707, -4.5635, -5.7587, -5.7072, -3.9573, -4.3204, -5.1171, -3.699, -5.0033, -4.3295, -4.9186, -5.4344, -4.828, -5.0149, -4.9384, -4.5411, -4.9528, -5.1461, -5.2429, -5.3074, -5.4653], \"loglift\": [30.0, 29.0, 28.0, 27.0, 26.0, 25.0, 24.0, 23.0, 22.0, 21.0, 20.0, 19.0, 18.0, 17.0, 16.0, 15.0, 14.0, 13.0, 12.0, 11.0, 10.0, 9.0, 8.0, 7.0, 6.0, 5.0, 4.0, 3.0, 2.0, 1.0, 1.9949, 1.9941, 1.994, 1.9938, 1.9933, 1.9933, 1.9931, 1.9931, 1.9929, 1.9925, 1.9921, 1.9915, 1.9914, 1.9914, 1.9914, 1.9913, 1.9912, 1.9911, 1.9911, 1.991, 1.9909, 1.9906, 1.9905, 1.9905, 1.9903, 1.9903, 1.9903, 1.9902, 1.9902, 1.9902, 1.9742, 1.9238, 1.9733, 1.8628, 1.9496, 1.9658, 1.9632, 1.896, 1.7932, 1.8354, 1.7193, 1.741, 1.8425, 1.838, 1.9099, 1.779, 1.6904, 1.766, 1.8, 1.5872, 1.7565, 1.547, 1.6682, 1.5674, 1.4587, 1.2288, 1.3582, 0.3977, 1.3281, 0.4085, -0.3843, 0.9342, 0.8658, 0.7713, 1.2451, 0.117, 0.7411, 1.5585, 1.5576, 1.5576, 1.5576, 1.5575, 1.5574, 1.5573, 1.5573, 1.557, 1.5564, 1.5563, 1.5561, 1.5551, 1.5549, 1.5524, 1.5522, 1.552, 1.5512, 1.5508, 1.5499, 1.5495, 1.5492, 1.5481, 1.5479, 1.5473, 1.5466, 1.5462, 1.5461, 1.5458, 1.5457, 1.5409, 1.5308, 1.5393, 1.5368, 1.5143, 1.5204, 1.5102, 1.5182, 1.486, 1.4799, 1.3819, 1.4966, 1.3964, 1.429, 1.5107, 1.1197, 1.3982, 1.2901, 0.8405, 1.1991, 1.044, 1.1351, 0.7999, 1.2946, 0.3426, 0.7731, 0.4734, 0.8914, 0.7857, 0.5968, 0.5091, 1.2254, 0.6407, 0.2468, 0.6289, 0.3447, 0.2706, 0.9432, 0.9116, -0.3359, 0.5587, -0.1427, 0.3448, 0.4167, -0.0483, 0.2142, -0.2561, -0.3307, 0.2459, 1.334, 1.3331, 1.333, 1.3329, 1.3329, 1.3328, 1.3327, 1.3323, 1.332, 1.3319, 1.3317, 1.3316, 1.3309, 1.3307, 1.3305, 1.3303, 1.3303, 1.3299, 1.3295, 1.3294, 1.3292, 1.3288, 1.328, 1.3277, 1.3277, 1.3272, 1.3267, 1.3267, 1.3266, 1.3256, 1.3177, 1.3126, 1.3024, 1.2617, 1.1995, 1.3056, 1.0448, 1.1629, 0.9348, 1.0698, 1.2094, 0.8275, 0.6972, 0.9492, 0.6184, 0.7067, 0.2186, 0.5979, 0.4282, 0.1159, 0.4453, 0.7196, 0.5734, 0.0514, 0.7798, 0.403, 0.2177, 0.1367, 0.2747, 0.5502, -0.2018, 0.2866, 0.3112, 0.1778, -0.3095, 0.0649, 0.1297, 0.405, 0.3605, 1.4513, 1.4499, 1.4491, 1.4489, 1.4484, 1.4476, 1.4468, 1.4468, 1.4467, 1.4467, 1.4466, 1.4464, 1.4461, 1.4454, 1.4453, 1.4452, 1.4449, 1.4444, 1.4442, 1.4435, 1.4435, 1.4433, 1.4432, 1.443, 1.4428, 1.4427, 1.4422, 1.4421, 1.4421, 1.442, 1.4316, 1.4289, 1.4052, 1.4315, 1.412, 1.4208, 1.3985, 1.4103, 1.3804, 1.3726, 1.1617, 1.3412, 1.1314, 1.2526, 1.0354, 1.0206, 1.296, 1.1131, 0.3162, 0.9271, 0.9203, 0.515, 0.5297, 0.942, 0.761, 1.0979, 0.4601, 0.5914, 0.9149, 0.6173, -0.0206, 1.0628, 0.1263, 0.7012, 0.4349, 0.8949, -0.0524, 0.6238, 0.2863, 0.4716, 0.0501, 0.2341, 0.3982, -0.0879, 0.0456, 0.0324, -0.3148, 0.1089, 0.0631, 1.8523, 1.8519, 1.8511, 1.8509, 1.8497, 1.8488, 1.8479, 1.8477, 1.8472, 1.8472, 1.8471, 1.8469, 1.8466, 1.8461, 1.846, 1.8455, 1.8449, 1.8446, 1.8444, 1.8443, 1.844, 1.8437, 1.8434, 1.8434, 1.8425, 1.8422, 1.8419, 1.8418, 1.8416, 1.8402, 1.7989, 1.7688, 1.7143, 1.7573, 1.7474, 1.8015, 1.6824, 1.716, 1.616, 1.4775, 1.2043, 1.2708, 1.5742, 1.4496, 1.4886, 1.4549, 1.3636, 0.978, 0.9186, 1.4379, 1.4111, 0.4948, 0.6815, 1.1026, 0.2462, 0.8923, 0.1873, 0.5713, 1.0503, 0.158, 0.3396, 0.1025, -0.6286, -0.029, 0.1733, 0.1154, -0.1112, 0.2554]}, \"token.table\": {\"Topic\": [5, 1, 2, 4, 5, 5, 2, 3, 4, 1, 2, 3, 4, 5, 4, 5, 5, 3, 5, 1, 2, 3, 4, 5, 4, 2, 1, 1, 2, 3, 4, 5, 3, 3, 2, 3, 4, 5, 5, 1, 2, 3, 4, 5, 1, 5, 4, 5, 1, 2, 1, 1, 4, 1, 3, 4, 2, 4, 5, 5, 3, 4, 2, 3, 4, 3, 4, 2, 4, 1, 2, 3, 4, 5, 2, 4, 2, 4, 1, 2, 3, 4, 5, 1, 2, 3, 4, 5, 1, 3, 3, 4, 4, 1, 2, 3, 4, 5, 1, 2, 3, 4, 5, 3, 2, 2, 4, 5, 5, 1, 2, 1, 5, 4, 1, 2, 3, 4, 5, 5, 1, 2, 3, 4, 2, 3, 4, 5, 3, 4, 3, 1, 5, 1, 1, 2, 3, 4, 5, 1, 2, 3, 5, 1, 5, 1, 5, 3, 1, 5, 1, 5, 1, 2, 3, 4, 5, 5, 2, 1, 3, 1, 4, 2, 2, 1, 4, 1, 3, 3, 4, 1, 2, 4, 5, 4, 2, 4, 1, 3, 4, 3, 3, 1, 3, 2, 3, 4, 5, 3, 1, 2, 3, 4, 5, 1, 4, 5, 1, 4, 5, 1, 5, 4, 5, 1, 2, 3, 5, 1, 1, 2, 4, 5, 1, 3, 4, 5, 1, 4, 1, 3, 3, 2, 5, 1, 2, 3, 4, 5, 1, 3, 5, 1, 2, 5, 1, 1, 2, 1, 2, 3, 2, 1, 2, 2, 1, 2, 3, 4, 5, 4, 1, 2, 3, 4, 5, 1, 2, 3, 4, 5, 1, 2, 3, 4, 5, 2, 1, 2, 3, 4, 5, 1, 2, 3, 4, 5, 1, 2, 3, 4, 5, 1, 2, 2, 1, 1, 3, 1, 2, 3, 4, 5, 5, 3, 3, 4, 5, 4, 5, 3, 2, 5, 1, 3, 4, 5, 4, 5, 5, 4, 4, 1, 2, 3, 5, 4, 1, 2, 4, 5, 1, 2, 5, 4, 1, 2, 3, 4, 5, 5, 5, 1, 2, 3, 4, 5, 2, 1, 1, 2, 1, 2, 3, 4, 5, 1, 5, 1, 2, 3, 4, 5, 4, 1, 2, 4, 1, 2, 3, 4, 5, 3, 5, 1, 3, 1, 2, 3, 4, 5, 1, 2, 3, 4, 5, 1, 2, 3, 4, 5, 1, 3, 5, 3, 2, 3, 4, 3, 2, 1, 2, 1, 3, 5, 2, 4, 5, 2, 1, 2, 3, 4, 5, 2, 4, 5, 1, 2, 3, 4, 5, 2, 3, 3, 4, 4, 5, 1, 2, 3, 4, 5, 1, 2, 3, 4, 5, 2, 3, 4, 5, 1, 2, 3, 4, 1, 2, 3, 4, 5, 1, 2, 3, 4, 5, 1, 2, 3, 4, 5, 1, 2, 3, 4, 5, 3, 1, 1, 2, 3, 4, 5, 1, 4, 1, 2, 3, 4, 5, 2, 4, 1, 2, 3, 4, 5, 1, 2, 4, 5, 3, 2, 4, 5, 1, 2, 2, 2, 3, 1, 2, 2, 2, 2, 2, 4, 1, 2, 3, 5, 1, 2, 3, 4, 5, 1, 2, 3, 4, 5, 1, 2, 3, 5, 1, 5, 1, 2, 3, 1, 1, 1, 2, 3, 4, 4, 1, 2, 3, 4, 5, 1, 5, 5, 1, 2, 3, 4, 5, 2, 4, 3, 4, 1, 3, 4, 5, 4, 3, 1, 2, 3, 4, 3, 5, 1, 3, 4, 1, 1, 4, 1, 4, 5, 1, 1, 3, 1, 2, 3, 4, 5, 3, 1, 3, 3, 2, 3, 4, 5, 1, 2, 3, 4, 5, 2, 1, 3, 4, 5, 2, 4, 5, 2, 5, 1, 2, 1, 5, 1, 2, 3, 4, 5, 1, 2, 3, 4, 5, 1, 2, 3, 4, 5, 3, 3, 4, 4, 2, 3, 4, 5, 4, 1, 2, 3, 4, 5, 5, 2, 1, 1, 2, 5, 4, 2, 3, 4, 5, 5, 2, 3, 4, 5, 1, 2, 3, 4, 5, 1, 1, 2, 3, 4, 5, 5, 3, 1, 2, 3, 4, 5, 1, 2, 5, 2, 3, 1, 2, 2, 4, 5, 1, 2, 3, 4, 5, 4, 2, 4, 4, 4, 4, 4, 5, 1, 2, 2, 1, 3, 5, 5, 1, 2, 4, 4, 5, 3, 4, 5, 1, 2, 3, 4, 5, 2, 3, 1, 2, 3, 4, 5], \"Freq\": [0.9857712769662212, 0.0049090546360756535, 0.127635420537967, 0.8198121242246342, 0.04663601904271871, 0.9916720769474571, 0.8767685422530026, 0.061444695683498834, 0.061444695683498834, 0.011496271302626872, 0.29649685754914423, 0.18099943422973006, 0.37108894344293253, 0.14036145195067692, 0.9937649702888428, 0.9965437779511356, 0.9848175524761142, 0.08058423517961, 0.918356189594046, 0.010635319343020007, 0.12230617244473008, 0.12939638534007675, 0.7125663959823404, 0.026588298357550017, 0.9942041696892641, 0.9790364386699706, 0.9965171260434998, 0.20440547013484064, 0.2751347985465604, 0.132073859202467, 0.2144769602646648, 0.17373320473946702, 0.9938138023199623, 0.9971495367087543, 0.9827568445287549, 0.12685042769605082, 0.08381188972774786, 0.7882848006826015, 0.9915261199107899, 0.46419945507462057, 0.1511963939385907, 0.09177886368903927, 0.1899238913333876, 0.10185862328494531, 0.9055442792935517, 0.09321779345668915, 0.9798426788714575, 0.016701863844399843, 0.01961398902703294, 0.9741614550093027, 0.9987891318601295, 0.9959323660285953, 0.9970374146632562, 0.5845946333473377, 0.4002224797531773, 0.01528939810293037, 0.034627220371118775, 0.08849178539285908, 0.8733754471382179, 0.9963795918999216, 0.9285576219577398, 0.0695395575915488, 0.7660103044327041, 0.07305275382873201, 0.1607160584232104, 0.9774647087033705, 0.017968101262929605, 0.037676253470969916, 0.9607444635097329, 0.04940377930792811, 0.12252137268366171, 0.05730838399719661, 0.11066446564975897, 0.6600344915539196, 0.9949584081444633, 0.9897634067272422, 0.9937173517958716, 0.9952674709286504, 0.0038510390581181207, 0.2957894230408418, 0.2954931892671404, 0.32126552757916166, 0.08361198262721843, 0.06846844913841472, 0.20020521203764305, 0.3018245242082649, 0.24613974120645293, 0.18352144436783946, 0.9964021307931306, 0.9957100821305022, 0.9706486366689447, 0.025376434945593326, 0.9930423850151695, 0.28543535104745155, 0.22564821670643131, 0.1742184237249085, 0.293792692406949, 0.021214789604878156, 0.0066896652262137925, 0.09254036896262413, 0.27539121847913445, 0.6009549261548723, 0.025643716700486204, 0.9984224368388752, 0.994551049236288, 0.9936080001595238, 0.8950829666583523, 0.09989765252883397, 0.9918013982923182, 0.010332066257170406, 0.9892953441240663, 0.9976534921759194, 0.9904228596002905, 0.9918935486141744, 0.018039502592020192, 0.18204652967862628, 0.2770715151633524, 0.2656380276050297, 0.2571264313116117, 0.999368719426182, 0.11962193597949744, 0.5964635064665766, 0.10535509957827296, 0.17833545501530582, 0.15618224915695636, 0.23953794393173647, 0.5913867187179135, 0.012283997124704434, 0.8734350470431623, 0.12618335774760273, 0.9879197599966286, 0.9952161742812808, 0.9945767845627121, 0.9994105742167506, 0.07063105324431417, 0.01831175454482219, 0.6020456443205826, 0.2612227842210349, 0.047834787382392656, 0.9928092152184506, 0.9944829272752262, 0.967632940085694, 0.02658332252982676, 0.9796605487587859, 0.02111337389566349, 0.008713910406151252, 0.9904811494991922, 0.9922523875190756, 0.8524552118434695, 0.14701763798459835, 0.9692466828365387, 0.02758019016201533, 0.9974213064474269, 0.22278611161335446, 0.310753159975709, 0.4340982603968366, 0.03203147956672693, 0.9995782338866326, 0.9883913566245842, 0.7753738331466593, 0.22483276528949436, 0.9682425499931393, 0.030139845914183325, 0.9957556890819043, 0.9947715190094052, 0.9921725767673597, 0.991730289685678, 0.00529075396659481, 0.9946617457198242, 0.9984260663135098, 0.9900168161107596, 0.16729706417954235, 0.09803967739553825, 0.5873386177916191, 0.1475092393841126, 0.9939942530479312, 0.928091359994904, 0.06992469150646537, 0.9962221767716741, 0.7478398680298403, 0.25162281273936354, 0.999153163140187, 0.9952489552075902, 0.9917405344254863, 0.9920036565794188, 0.10798827427701084, 0.2022062316999062, 0.6595257019602675, 0.03043964778278158, 0.9978897338469769, 0.019970455999172233, 0.15088788977152354, 0.3271703100111303, 0.39768327810697296, 0.10429015910678832, 0.5130077060683708, 0.038790752821804976, 0.4480331950918474, 0.7584268119826346, 0.03884735308547146, 0.20236760677082807, 0.31278093590495304, 0.6865443184328843, 0.5842816474849397, 0.41497276099782654, 0.08617367658390772, 0.08617367658390772, 0.07096655718674753, 0.7578214499584826, 0.9915612984446828, 0.854144056415491, 0.04674420209239005, 0.0828647218910551, 0.014873155211215017, 0.007448849594809672, 0.5735614188003447, 0.249536461426124, 0.16853022208256882, 0.9943011805709715, 0.9943452167464776, 0.9962495528063003, 0.9884329139056376, 0.99138478106522, 0.9798637667326022, 0.9960861300782349, 0.00286261355781427, 0.13883675755399208, 0.46708311218336174, 0.23711982303894868, 0.15410402986233487, 0.0665642088584731, 0.41089296383484575, 0.522585449885504, 0.06015814500114582, 0.03799461789546052, 0.8992059568592323, 0.9917711526003792, 0.0463496030555533, 0.9501668626388428, 0.008005673185369882, 0.9806949652078106, 0.008005673185369882, 0.9972823245080173, 0.9923962539142829, 0.9979884564164259, 0.9930649410821377, 0.10795085945388307, 0.3814036674711326, 0.31431748667487086, 0.15222092799963954, 0.04392952955694295, 0.993072159596872, 0.025948583998223623, 0.6436175566702252, 0.19878468812924882, 0.07691901685187717, 0.0551407409962252, 0.05848791484569538, 0.19758102326024823, 0.6703992928531806, 0.04177708203263955, 0.031947180377900834, 0.004338155352948171, 0.46092900625074323, 0.39477213711828363, 0.08893218473543751, 0.05151559481625954, 0.9948914767412655, 0.00582437853929778, 0.29631525818677457, 0.3938735987200124, 0.2493562062136862, 0.05460354880591669, 0.06455058437172657, 0.13089424053155665, 0.23130626066535356, 0.2958568450370801, 0.2775675127984243, 0.006535264442868031, 0.2010850597805548, 0.30866556676315166, 0.3488825787192626, 0.13472699005297173, 0.28304110260209886, 0.7150512065737235, 0.9951015771058853, 0.9931079327228137, 0.9980872689997042, 0.9974629290915353, 0.15466798303894286, 0.5222431279154429, 0.2988338190814143, 0.017185331448771428, 0.0066831844523, 0.9892915677207804, 0.9968387482471855, 0.06610167134030291, 0.09088979809291652, 0.8427963095888622, 0.9873647864643189, 0.9876617724469796, 0.9967221585727464, 0.9917186053150469, 0.9937819015410492, 0.08918520169123653, 0.6804500573479528, 0.0649620604911476, 0.1651577809096973, 0.7254303281432418, 0.27346663789626935, 0.9906942064362786, 0.9952227021799667, 0.9971967414020935, 0.014025607028757471, 0.8360481407141953, 0.06463975413253444, 0.08537326017504547, 0.9975722568756648, 0.47213688292878586, 0.03575201340663412, 0.48265218098956064, 0.008412238448619793, 0.8170102320804187, 0.025717029096962333, 0.15759922959420505, 0.9923985279138184, 0.04373509045805784, 0.16648736115546386, 0.4785133426587505, 0.19919679855686848, 0.1120941394093079, 0.993197895004149, 0.9958212293643482, 0.09252110498442132, 0.15006938533866848, 0.32745889845189313, 0.2293513247628707, 0.20050065761719094, 0.9844764294318591, 0.9979985170547715, 0.9561352392842964, 0.042972370304912196, 0.008105718125462085, 0.6970917587897394, 0.14011312759727318, 0.07063554366474104, 0.08453106045124746, 0.004839816417650768, 0.9937756377576245, 0.06561169819200752, 0.31849011830703644, 0.32350212303003706, 0.18453290116502113, 0.10753028314801232, 0.9945138384627771, 0.02875813130312336, 0.11143775879960302, 0.85555440626792, 0.3458646249967737, 0.09254696655145231, 0.10619171161993565, 0.361882369207602, 0.09314021633703853, 0.9983516720457056, 0.9901510897398182, 0.008579507895881426, 0.9900752111847166, 0.0033157192471318783, 0.18170141474282694, 0.07825097423231234, 0.4721584207915795, 0.2645943959211239, 0.0015213333694437427, 0.18256000433324912, 0.03765300089373263, 0.36169700858524984, 0.4168453432275855, 0.00725739222985683, 0.13668088699563696, 0.10039392584635282, 0.5733339861586896, 0.18264437111806356, 0.14161396162483164, 0.2994729163537587, 0.558686501971281, 0.9911897351837355, 0.762977661908257, 0.21824303830327718, 0.017459443064262174, 0.99480104790417, 0.9981037627980169, 0.6512699332282678, 0.34771191350322767, 0.004024125126613426, 0.04929553280101447, 0.9466754360358085, 0.9970758107425552, 0.9812421376548885, 0.014017744823641265, 0.9912836933974503, 0.29377227183598664, 0.08608711262593016, 0.13182089120845555, 0.1059947574206765, 0.38254960673147714, 0.05983417624156015, 0.029917088120780075, 0.9074850063303289, 0.006672466805273716, 0.21813833786471762, 0.3772510078366293, 0.23969553831252502, 0.15859940329458294, 0.92228852555032, 0.07735323117518812, 0.9886246651682984, 0.9892744792683662, 0.9702991438369604, 0.025805828293536177, 0.04933046140555636, 0.2684157458831743, 0.20409269326612534, 0.37529841226187977, 0.10252997860762694, 0.02647002932749584, 0.28023704961935814, 0.4563202881892217, 0.1248694861753608, 0.11220990693177584, 0.6529035232854853, 0.2721327700020227, 0.06668866300444826, 0.0075293651779215764, 0.7949175979324121, 0.0597946865701372, 0.08441602809901722, 0.061553353822200056, 0.008770196588855762, 0.3492957606940829, 0.21018229756050877, 0.2449606633439023, 0.18629107237017756, 0.07640099375499343, 0.1594045425258505, 0.3464769346419867, 0.24177927653329198, 0.17606813375636346, 0.1518715334779764, 0.3938861706977195, 0.2679797703627519, 0.1518715334779764, 0.03429357207567209, 0.2022480266048132, 0.4866746917570809, 0.19306239035998796, 0.05675410965552747, 0.06101886934062491, 0.9969260137279017, 0.9940528573087397, 0.5289777975819938, 0.17048380825684742, 0.12985448946666414, 0.13702436925316708, 0.035052745622903204, 0.9956343047993969, 0.9903083754992114, 0.1553276992551547, 0.02135755864758377, 0.17668525790273845, 0.43685915415512255, 0.2103395927413553, 0.9955138731620873, 0.9991398090090781, 0.32278338340193913, 0.08153351899080123, 0.3886803371068333, 0.17702825698687666, 0.029039335530970302, 0.17247767123760332, 0.013044529757465798, 0.14638861172267173, 0.6681698020213036, 0.9934224188527319, 0.0019100180767271516, 0.3247030730436158, 0.6723263630079575, 0.05870424118202201, 0.9392678589123522, 0.9971516036525098, 0.8485583189834038, 0.14811199749528503, 0.042726485275106474, 0.9552421350791661, 0.9953995832480462, 0.988278634123516, 0.9814651567830338, 0.07228407444349988, 0.9261397038073421, 0.7863392674614228, 0.06354256706758972, 0.12509942891431725, 0.023828462650346143, 0.030570482889194485, 0.027791348081085895, 0.02362264586892301, 0.30431526148789056, 0.612799225187944, 0.11129398353167701, 0.4549754043747802, 0.35068104244886905, 0.05984676472929801, 0.023098751299027304, 0.7207944189531776, 0.10232572127101479, 0.019562270242988122, 0.15649816194390498, 0.9790813734253195, 0.018974445221420923, 0.6649080587863426, 0.28985682680523916, 0.04504531767919258, 0.99624333399246, 0.994588918397396, 0.8570428030204662, 0.044549254612449976, 0.05515621999636664, 0.04242786153566665, 0.9954225850842248, 0.03723948460379729, 0.21197860466776922, 0.24839963906049406, 0.42313875912446597, 0.0793896704740294, 0.9971492937863999, 0.9942804145944114, 0.9901439772167284, 0.0265477696257971, 0.039821654438695654, 0.8428916856190579, 0.042033968574178744, 0.04867091098062802, 0.0677891368072652, 0.929679590499637, 0.015639252274838464, 0.9800598092232105, 0.12053073724518547, 0.08556194310615019, 0.32215931621706984, 0.47245072932526405, 0.9938055926106893, 0.9979504404487438, 0.005548360771759189, 0.0713360670654753, 0.2734549237509886, 0.6499508332632193, 0.9912789151084113, 0.9915772251252887, 0.8757960105565533, 0.1085016489816535, 0.015565637406650712, 0.9960507621405349, 0.29724834201123373, 0.7024148718864186, 0.9186050830960596, 0.020413446291023547, 0.05783809782456672, 0.9968994426675465, 0.11509499956698653, 0.883523379028926, 0.7372767101229811, 0.031169421891378064, 0.03716354148587385, 0.18581770742936923, 0.008391767432294094, 0.9971703203680997, 0.8057171579907599, 0.19425046785940753, 0.9981939360663771, 0.002499614859842284, 0.7673817619715813, 0.18872092191809245, 0.04124364518739769, 0.010347159716150732, 0.16247242277700513, 0.12526667826573973, 0.3918711552074107, 0.3097543344813634, 0.9854820037497701, 0.15715387527911592, 0.062130601854534194, 0.1370527982085313, 0.643234466258707, 0.03874560472558046, 0.9471147821808558, 0.012915201575193488, 0.04356488242988031, 0.9511665997190535, 0.9306733862337481, 0.06900430050022087, 0.8221155160398066, 0.1771046723383626, 0.004275249098752474, 0.26872994335015554, 0.40390924818690044, 0.17100996395009896, 0.1522803012317548, 0.03554392217215491, 0.26024687843290434, 0.35911617918763405, 0.25085020935290936, 0.09396669079994975, 0.13947238617871324, 0.5121139923279933, 0.06937857158633429, 0.2446131080672817, 0.0343316642901448, 0.9987266628892364, 0.9815449326358303, 0.01622388318406331, 0.9909222956783956, 0.2806612577793726, 0.11226450311174904, 0.5012740604059492, 0.105084796517393, 0.9966962338608587, 0.15269833593154147, 0.11116688669044737, 0.48838486175241486, 0.12678021347281357, 0.12084714929551442, 0.989791679543283, 0.9851073273081947, 0.9980338136646916, 0.1506918594125803, 0.8480541869131343, 0.9952191833212086, 0.9980570004392233, 0.3670020329667943, 0.19510301623525064, 0.2509820354482593, 0.18610554703993568, 0.9979588752395774, 0.027547179193367407, 0.1183942595119195, 0.7484627197857485, 0.10549983520864113, 0.02260171427090242, 0.3984780494283014, 0.5335969934391311, 0.03439391302093847, 0.010809515520866377, 0.9983596439643659, 0.011349084480156415, 0.09457570400130347, 0.5403425221941138, 0.33416748747127223, 0.019545645493602715, 0.9941922066181011, 0.9984126510772582, 0.07716805039745896, 0.1184439843309835, 0.03050829899434424, 0.6783610011683601, 0.09511410862942615, 0.997489639384497, 0.9811099595943864, 0.016771110420416863, 0.9504010621361962, 0.047861923992470315, 0.03672401929525379, 0.9609451715591407, 0.04224961323283471, 0.9548412590620644, 0.9899606376228047, 0.017538793288867538, 0.16975046361725368, 0.28093388535918185, 0.31162677361470004, 0.22017449432274785, 0.9996582020411644, 0.037156025575365376, 0.9598639940302721, 0.9962928947005226, 0.9887842838939938, 0.995527427848244, 0.12830721610100307, 0.8701562110122572, 0.026021711236975335, 0.9693087435773313, 0.9981704828023982, 0.638768716609281, 0.04845149708027054, 0.31246271586460184, 0.9990563614583658, 0.07751429384365169, 0.5395800194830819, 0.3825380735141252, 0.3041441173247966, 0.6938287676471923, 0.5283864655710799, 0.0786352921826321, 0.3928206451114291, 0.140002253040252, 0.46732233537973, 0.1821325606681056, 0.1225019714102205, 0.08847364601849257, 0.9593101428899066, 0.03515796335198611, 0.03659043809146523, 0.3371741110057981, 0.21507046389316783, 0.22225303137038138, 0.18905059680590366], \"Term\": [\"0in\", \"200\", \"200\", \"200\", \"200\", \"2002\", \"a\", \"a\", \"a\", \"able\", \"able\", \"able\", \"able\", \"able\", \"accept\", \"ack\", \"acre\", \"active\", \"active\", \"additional\", \"additional\", \"additional\", \"additional\", \"additional\", \"affecting\", \"agency\", \"agricola\", \"also\", \"also\", \"also\", \"also\", \"also\", \"altagracia\", \"ana\", \"appliance\", \"applied\", \"applied\", \"applied\", \"approved\", \"area\", \"area\", \"area\", \"area\", \"area\", \"association\", \"association\", \"aware\", \"aware\", \"b\", \"b\", \"baba\", \"babah4\", \"bale\", \"bank\", \"bank\", \"bank\", \"basis\", \"basis\", \"basis\", \"bead\", \"beauty\", \"beauty\", \"began\", \"began\", \"began\", \"behalf\", \"behalf\", \"bicycle\", \"bicycle\", \"born\", \"born\", \"born\", \"born\", \"born\", \"bp\", \"breadwinner\", \"btranslated\", \"budget\", \"business\", \"business\", \"business\", \"business\", \"business\", \"buy\", \"buy\", \"buy\", \"buy\", \"buy\", \"cacao\", \"cafeteria\", \"candy\", \"candy\", \"capable\", \"capital\", \"capital\", \"capital\", \"capital\", \"capital\", \"care\", \"care\", \"care\", \"care\", \"care\", \"carmen\", \"carpentry\", \"cart\", \"cater\", \"cater\", \"catholic\", \"cement\", \"cement\", \"centro\", \"chairlady\", \"charcoal\", \"child\", \"child\", \"child\", \"child\", \"child\", \"church\", \"client\", \"client\", \"client\", \"client\", \"clothes\", \"clothes\", \"clothes\", \"clothes\", \"clothing\", \"clothing\", \"colmado\", \"commercialize\", \"committee\", \"communal\", \"community\", \"community\", \"community\", \"community\", \"community\", \"compiled\", \"computer\", \"coordinator\", \"coordinator\", \"county\", \"county\", \"cow\", \"cow\", \"cristobal\", \"crop\", \"crop\", \"cultivate\", \"cultivate\", \"cultivation\", \"customer\", \"customer\", \"customer\", \"customer\", \"dairy\", \"david\", \"de\", \"de\", \"debt\", \"debt\", \"description\", \"descriptionh4\", \"designed\", \"disclaimer\", \"domingo\", \"domingo\", \"dominican\", \"drug\", \"due\", \"due\", \"due\", \"due\", \"ebf\", \"educational\", \"educational\", \"en\", \"entrepreneur\", \"entrepreneur\", \"esperanza\", \"esperanzas\", \"evaluating\", \"excited\", \"expand\", \"expand\", \"expand\", \"expand\", \"explains\", \"family\", \"family\", \"family\", \"family\", \"family\", \"farm\", \"farm\", \"farm\", \"farmer\", \"farmer\", \"farmer\", \"farming\", \"farming\", \"fee\", \"fee\", \"feed\", \"feed\", \"feed\", \"feed\", \"fertile\", \"finance\", \"finance\", \"finance\", \"finance\", \"five\", \"five\", \"five\", \"five\", \"flooding\", \"follows\", \"forgotten\", \"francisca\", \"fsma\", \"glass\", \"goat\", \"good\", \"good\", \"good\", \"good\", \"good\", \"group\", \"group\", \"group\", \"grows\", \"grows\", \"grows\", \"guarantor\", \"guayaquil\", \"guayaquil\", \"h4\", \"h4\", \"h4\", \"h4business\", \"h4economy\", \"h4personal\", \"h4use\", \"help\", \"help\", \"help\", \"help\", \"help\", \"hence\", \"home\", \"home\", \"home\", \"home\", \"home\", \"hope\", \"hope\", \"hope\", \"hope\", \"hope\", \"house\", \"house\", \"house\", \"house\", \"house\", \"hrefhttpwwwmifexorgwwwmifexorgap\", \"husband\", \"husband\", \"husband\", \"husband\", \"husband\", \"income\", \"income\", \"income\", \"income\", \"income\", \"increase\", \"increase\", \"increase\", \"increase\", \"increase\", \"information\", \"information\", \"informationh4\", \"infrastructure\", \"intermediary\", \"international\", \"invest\", \"invest\", \"invest\", \"invest\", \"invest\", \"isinya\", \"jewelry\", \"joined\", \"joined\", \"joined\", \"joseph\", \"joyce\", \"juana\", \"kadet\", \"kale\", \"keep\", \"keep\", \"keep\", \"keep\", \"kenya\", \"kenya\", \"kiambu\", \"kibera\", \"kisumu\", \"kiva\", \"kiva\", \"kiva\", \"kiva\", \"ksh\", \"lack\", \"lack\", \"lack\", \"lack\", \"land\", \"land\", \"land\", \"license\", \"life\", \"life\", \"life\", \"life\", \"life\", \"liter\", \"litre\", \"loan\", \"loan\", \"loan\", \"loan\", \"loan\", \"loanh4\", \"lucia\", \"machinery\", \"machinery\", \"made\", \"made\", \"made\", \"made\", \"made\", \"maize\", \"maize\", \"make\", \"make\", \"make\", \"make\", \"make\", \"malaba\", \"man\", \"man\", \"man\", \"many\", \"many\", \"many\", \"many\", \"many\", \"mara\", \"maragwa\", \"maria\", \"maria\", \"market\", \"market\", \"market\", \"market\", \"market\", \"married\", \"married\", \"married\", \"married\", \"married\", \"meet\", \"meet\", \"meet\", \"meet\", \"meet\", \"member\", \"member\", \"member\", \"mercedes\", \"merchandise\", \"merchandise\", \"merchandise\", \"microentrepreneurs\", \"microinsurance\", \"mifex\", \"mifex\", \"milk\", \"milk\", \"milk\", \"mobile\", \"mombasa\", \"mombasa\", \"monday\", \"month\", \"month\", \"month\", \"month\", \"month\", \"monthly\", \"monthly\", \"monthly\", \"mother\", \"mother\", \"mother\", \"mother\", \"mother\", \"mr\", \"mr\", \"mujeres\", \"municipal\", \"nakuru\", \"nakuru\", \"need\", \"need\", \"need\", \"need\", \"need\", \"new\", \"new\", \"new\", \"new\", \"new\", \"offer\", \"offer\", \"offer\", \"offer\", \"often\", \"often\", \"often\", \"often\", \"old\", \"old\", \"old\", \"old\", \"old\", \"one\", \"one\", \"one\", \"one\", \"one\", \"order\", \"order\", \"order\", \"order\", \"order\", \"p\", \"p\", \"p\", \"p\", \"p\", \"pant\", \"para\", \"part\", \"part\", \"part\", \"part\", \"part\", \"participate\", \"paul\", \"pay\", \"pay\", \"pay\", \"pay\", \"pay\", \"pbtranslated\", \"pemci\", \"people\", \"people\", \"people\", \"people\", \"people\", \"per\", \"per\", \"per\", \"per\", \"perfume\", \"period\", \"period\", \"period\", \"phe\", \"phe\", \"phone\", \"please\", \"please\", \"pm\", \"pm\", \"pmifex\", \"pmr\", \"ppersonal\", \"premise\", \"premise\", \"prepare\", \"prepare\", \"prepare\", \"prepare\", \"primary\", \"primary\", \"primary\", \"primary\", \"primary\", \"product\", \"product\", \"product\", \"product\", \"product\", \"production\", \"production\", \"production\", \"production\", \"productive\", \"productive\", \"program\", \"program\", \"program\", \"promoting\", \"psalitre\", \"pthe\", \"pthe\", \"pthe\", \"pthe\", \"pu\", \"purchase\", \"purchase\", \"purchase\", \"purchase\", \"purchase\", \"que\", \"rear\", \"rearing\", \"receive\", \"receive\", \"receive\", \"receive\", \"receive\", \"recent\", \"recent\", \"remains\", \"remains\", \"repay\", \"repay\", \"repay\", \"repay\", \"represent\", \"republic\", \"requesting\", \"requesting\", \"requesting\", \"requesting\", \"respective\", \"revolving\", \"rice\", \"rice\", \"rice\", \"rio\", \"risk\", \"risk\", \"river\", \"river\", \"river\", \"robert\", \"rosa\", \"rosa\", \"rural\", \"rural\", \"rural\", \"rural\", \"rural\", \"san\", \"santa\", \"santa\", \"santo\", \"say\", \"say\", \"say\", \"say\", \"school\", \"school\", \"school\", \"school\", \"school\", \"seafood\", \"secondary\", \"secondary\", \"secondary\", \"secondary\", \"secondhand\", \"secondhand\", \"secondhand\", \"secretary\", \"secretary\", \"sector\", \"sector\", \"seed\", \"seed\", \"sell\", \"sell\", \"sell\", \"sell\", \"sell\", \"selling\", \"selling\", \"selling\", \"selling\", \"selling\", \"service\", \"service\", \"service\", \"service\", \"service\", \"shell\", \"shes\", \"shes\", \"shilling\", \"shop\", \"shop\", \"shop\", \"shop\", \"slum\", \"small\", \"small\", \"small\", \"small\", \"small\", \"society\", \"soda\", \"soil\", \"spanish\", \"spanish\", \"st\", \"stall\", \"started\", \"started\", \"started\", \"started\", \"steer\", \"stock\", \"stock\", \"stock\", \"stock\", \"store\", \"store\", \"store\", \"store\", \"store\", \"su\", \"support\", \"support\", \"support\", \"support\", \"support\", \"susan\", \"thank\", \"therefore\", \"therefore\", \"therefore\", \"therefore\", \"therefore\", \"tiene\", \"timber\", \"timber\", \"tool\", \"tool\", \"translated\", \"translated\", \"transport\", \"transport\", \"treasurer\", \"two\", \"two\", \"two\", \"two\", \"two\", \"u\", \"unable\", \"unable\", \"unsettled\", \"us100\", \"us200\", \"usd\", \"usd\", \"volunteer\", \"volunteer\", \"volunteerbp\", \"water\", \"water\", \"water\", \"weec\", \"wife\", \"wife\", \"wife\", \"willing\", \"willing\", \"woman\", \"woman\", \"woman\", \"work\", \"work\", \"work\", \"work\", \"work\", \"workshop\", \"workshop\", \"year\", \"year\", \"year\", \"year\", \"year\"]}, \"R\": 30, \"lambda.step\": 0.01, \"plot.opts\": {\"xlab\": \"PC1\", \"ylab\": \"PC2\"}, \"topic.order\": [1, 2, 3, 4, 5]};\n",
              "\n",
              "function LDAvis_load_lib(url, callback){\n",
              "  var s = document.createElement('script');\n",
              "  s.src = url;\n",
              "  s.async = true;\n",
              "  s.onreadystatechange = s.onload = callback;\n",
              "  s.onerror = function(){console.warn(\"failed to load library \" + url);};\n",
              "  document.getElementsByTagName(\"head\")[0].appendChild(s);\n",
              "}\n",
              "\n",
              "if(typeof(LDAvis) !== \"undefined\"){\n",
              "   // already loaded: just create the visualization\n",
              "   !function(LDAvis){\n",
              "       new LDAvis(\"#\" + \"ldavis_el1921402630275292968576688975\", ldavis_el1921402630275292968576688975_data);\n",
              "   }(LDAvis);\n",
              "}else if(typeof define === \"function\" && define.amd){\n",
              "   // require.js is available: use it to load d3/LDAvis\n",
              "   require.config({paths: {d3: \"https://d3js.org/d3.v5\"}});\n",
              "   require([\"d3\"], function(d3){\n",
              "      window.d3 = d3;\n",
              "      LDAvis_load_lib(\"https://cdn.jsdelivr.net/gh/bmabey/pyLDAvis@3.3.1/pyLDAvis/js/ldavis.v3.0.0.js\", function(){\n",
              "        new LDAvis(\"#\" + \"ldavis_el1921402630275292968576688975\", ldavis_el1921402630275292968576688975_data);\n",
              "      });\n",
              "    });\n",
              "}else{\n",
              "    // require.js not available: dynamically load d3 & LDAvis\n",
              "    LDAvis_load_lib(\"https://d3js.org/d3.v5.js\", function(){\n",
              "         LDAvis_load_lib(\"https://cdn.jsdelivr.net/gh/bmabey/pyLDAvis@3.3.1/pyLDAvis/js/ldavis.v3.0.0.js\", function(){\n",
              "                 new LDAvis(\"#\" + \"ldavis_el1921402630275292968576688975\", ldavis_el1921402630275292968576688975_data);\n",
              "            })\n",
              "         });\n",
              "}\n",
              "</script>"
            ],
            "text/plain": [
              "<IPython.core.display.HTML object>"
            ]
          },
          "metadata": {
            "tags": []
          },
          "execution_count": 40
        }
      ]
    }
  ]
}